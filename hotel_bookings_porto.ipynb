{
  "nbformat": 4,
  "nbformat_minor": 0,
  "metadata": {
    "colab": {
      "name": "hotel_bookings_porto.ipynb",
      "provenance": [],
      "authorship_tag": "ABX9TyM1UAmY1JjNlf3wwNCw20wp",
      "include_colab_link": true
    },
    "kernelspec": {
      "name": "python3",
      "display_name": "Python 3"
    },
    "language_info": {
      "name": "python"
    }
  },
  "cells": [
    {
      "cell_type": "markdown",
      "metadata": {
        "id": "view-in-github",
        "colab_type": "text"
      },
      "source": [
        "<a href=\"https://colab.research.google.com/github/nabilaindahs/hotel_bookings/blob/main/hotel_bookings_porto.ipynb\" target=\"_parent\"><img src=\"https://colab.research.google.com/assets/colab-badge.svg\" alt=\"Open In Colab\"/></a>"
      ]
    },
    {
      "cell_type": "code",
      "metadata": {
        "id": "Y8AcnVUSb_g3"
      },
      "source": [
        "import numpy as np\n",
        "import pandas as pd\n",
        "import seaborn as sns\n",
        "import matplotlib.pyplot as plt"
      ],
      "execution_count": 333,
      "outputs": []
    },
    {
      "cell_type": "code",
      "metadata": {
        "colab": {
          "base_uri": "https://localhost:8080/"
        },
        "id": "TOOi71-3ddOp",
        "outputId": "5545e88e-90f8-43de-e9a1-ec33c55a3bd4"
      },
      "source": [
        "from google.colab import drive\n",
        "drive.mount('/content/gdrive')"
      ],
      "execution_count": 334,
      "outputs": [
        {
          "output_type": "stream",
          "name": "stdout",
          "text": [
            "Drive already mounted at /content/gdrive; to attempt to forcibly remount, call drive.mount(\"/content/gdrive\", force_remount=True).\n"
          ]
        }
      ]
    },
    {
      "cell_type": "code",
      "metadata": {
        "colab": {
          "base_uri": "https://localhost:8080/"
        },
        "id": "Qzh1v1kKdjRH",
        "outputId": "9cbaaf03-4995-4fbf-ab7c-9b9566b8b218"
      },
      "source": [
        "%cd /content/gdrive/MyDrive/Colab Notebooks"
      ],
      "execution_count": 335,
      "outputs": [
        {
          "output_type": "stream",
          "name": "stdout",
          "text": [
            "/content/gdrive/MyDrive/Colab Notebooks\n"
          ]
        }
      ]
    },
    {
      "cell_type": "code",
      "metadata": {
        "colab": {
          "base_uri": "https://localhost:8080/",
          "height": 305
        },
        "id": "kNU7Di5Xdl1d",
        "outputId": "2111be00-0e65-4ace-aff3-3434b8114591"
      },
      "source": [
        "data = pd.read_csv('hotel_bookings.csv')\n",
        "data.head()"
      ],
      "execution_count": 336,
      "outputs": [
        {
          "output_type": "execute_result",
          "data": {
            "text/html": [
              "<div>\n",
              "<style scoped>\n",
              "    .dataframe tbody tr th:only-of-type {\n",
              "        vertical-align: middle;\n",
              "    }\n",
              "\n",
              "    .dataframe tbody tr th {\n",
              "        vertical-align: top;\n",
              "    }\n",
              "\n",
              "    .dataframe thead th {\n",
              "        text-align: right;\n",
              "    }\n",
              "</style>\n",
              "<table border=\"1\" class=\"dataframe\">\n",
              "  <thead>\n",
              "    <tr style=\"text-align: right;\">\n",
              "      <th></th>\n",
              "      <th>hotel</th>\n",
              "      <th>is_canceled</th>\n",
              "      <th>lead_time</th>\n",
              "      <th>arrival_date_year</th>\n",
              "      <th>arrival_date_month</th>\n",
              "      <th>arrival_date_week_number</th>\n",
              "      <th>arrival_date_day_of_month</th>\n",
              "      <th>stays_in_weekend_nights</th>\n",
              "      <th>stays_in_week_nights</th>\n",
              "      <th>adults</th>\n",
              "      <th>children</th>\n",
              "      <th>babies</th>\n",
              "      <th>meal</th>\n",
              "      <th>country</th>\n",
              "      <th>market_segment</th>\n",
              "      <th>distribution_channel</th>\n",
              "      <th>is_repeated_guest</th>\n",
              "      <th>previous_cancellations</th>\n",
              "      <th>previous_bookings_not_canceled</th>\n",
              "      <th>reserved_room_type</th>\n",
              "      <th>assigned_room_type</th>\n",
              "      <th>booking_changes</th>\n",
              "      <th>deposit_type</th>\n",
              "      <th>agent</th>\n",
              "      <th>company</th>\n",
              "      <th>days_in_waiting_list</th>\n",
              "      <th>customer_type</th>\n",
              "      <th>adr</th>\n",
              "      <th>required_car_parking_spaces</th>\n",
              "      <th>total_of_special_requests</th>\n",
              "      <th>reservation_status</th>\n",
              "      <th>reservation_status_date</th>\n",
              "    </tr>\n",
              "  </thead>\n",
              "  <tbody>\n",
              "    <tr>\n",
              "      <th>0</th>\n",
              "      <td>Resort Hotel</td>\n",
              "      <td>0</td>\n",
              "      <td>342</td>\n",
              "      <td>2015</td>\n",
              "      <td>July</td>\n",
              "      <td>27</td>\n",
              "      <td>1</td>\n",
              "      <td>0</td>\n",
              "      <td>0</td>\n",
              "      <td>2</td>\n",
              "      <td>0.0</td>\n",
              "      <td>0</td>\n",
              "      <td>BB</td>\n",
              "      <td>PRT</td>\n",
              "      <td>Direct</td>\n",
              "      <td>Direct</td>\n",
              "      <td>0</td>\n",
              "      <td>0</td>\n",
              "      <td>0</td>\n",
              "      <td>C</td>\n",
              "      <td>C</td>\n",
              "      <td>3</td>\n",
              "      <td>No Deposit</td>\n",
              "      <td>NaN</td>\n",
              "      <td>NaN</td>\n",
              "      <td>0</td>\n",
              "      <td>Transient</td>\n",
              "      <td>0.0</td>\n",
              "      <td>0</td>\n",
              "      <td>0</td>\n",
              "      <td>Check-Out</td>\n",
              "      <td>2015-07-01</td>\n",
              "    </tr>\n",
              "    <tr>\n",
              "      <th>1</th>\n",
              "      <td>Resort Hotel</td>\n",
              "      <td>0</td>\n",
              "      <td>737</td>\n",
              "      <td>2015</td>\n",
              "      <td>July</td>\n",
              "      <td>27</td>\n",
              "      <td>1</td>\n",
              "      <td>0</td>\n",
              "      <td>0</td>\n",
              "      <td>2</td>\n",
              "      <td>0.0</td>\n",
              "      <td>0</td>\n",
              "      <td>BB</td>\n",
              "      <td>PRT</td>\n",
              "      <td>Direct</td>\n",
              "      <td>Direct</td>\n",
              "      <td>0</td>\n",
              "      <td>0</td>\n",
              "      <td>0</td>\n",
              "      <td>C</td>\n",
              "      <td>C</td>\n",
              "      <td>4</td>\n",
              "      <td>No Deposit</td>\n",
              "      <td>NaN</td>\n",
              "      <td>NaN</td>\n",
              "      <td>0</td>\n",
              "      <td>Transient</td>\n",
              "      <td>0.0</td>\n",
              "      <td>0</td>\n",
              "      <td>0</td>\n",
              "      <td>Check-Out</td>\n",
              "      <td>2015-07-01</td>\n",
              "    </tr>\n",
              "    <tr>\n",
              "      <th>2</th>\n",
              "      <td>Resort Hotel</td>\n",
              "      <td>0</td>\n",
              "      <td>7</td>\n",
              "      <td>2015</td>\n",
              "      <td>July</td>\n",
              "      <td>27</td>\n",
              "      <td>1</td>\n",
              "      <td>0</td>\n",
              "      <td>1</td>\n",
              "      <td>1</td>\n",
              "      <td>0.0</td>\n",
              "      <td>0</td>\n",
              "      <td>BB</td>\n",
              "      <td>GBR</td>\n",
              "      <td>Direct</td>\n",
              "      <td>Direct</td>\n",
              "      <td>0</td>\n",
              "      <td>0</td>\n",
              "      <td>0</td>\n",
              "      <td>A</td>\n",
              "      <td>C</td>\n",
              "      <td>0</td>\n",
              "      <td>No Deposit</td>\n",
              "      <td>NaN</td>\n",
              "      <td>NaN</td>\n",
              "      <td>0</td>\n",
              "      <td>Transient</td>\n",
              "      <td>75.0</td>\n",
              "      <td>0</td>\n",
              "      <td>0</td>\n",
              "      <td>Check-Out</td>\n",
              "      <td>2015-07-02</td>\n",
              "    </tr>\n",
              "    <tr>\n",
              "      <th>3</th>\n",
              "      <td>Resort Hotel</td>\n",
              "      <td>0</td>\n",
              "      <td>13</td>\n",
              "      <td>2015</td>\n",
              "      <td>July</td>\n",
              "      <td>27</td>\n",
              "      <td>1</td>\n",
              "      <td>0</td>\n",
              "      <td>1</td>\n",
              "      <td>1</td>\n",
              "      <td>0.0</td>\n",
              "      <td>0</td>\n",
              "      <td>BB</td>\n",
              "      <td>GBR</td>\n",
              "      <td>Corporate</td>\n",
              "      <td>Corporate</td>\n",
              "      <td>0</td>\n",
              "      <td>0</td>\n",
              "      <td>0</td>\n",
              "      <td>A</td>\n",
              "      <td>A</td>\n",
              "      <td>0</td>\n",
              "      <td>No Deposit</td>\n",
              "      <td>304.0</td>\n",
              "      <td>NaN</td>\n",
              "      <td>0</td>\n",
              "      <td>Transient</td>\n",
              "      <td>75.0</td>\n",
              "      <td>0</td>\n",
              "      <td>0</td>\n",
              "      <td>Check-Out</td>\n",
              "      <td>2015-07-02</td>\n",
              "    </tr>\n",
              "    <tr>\n",
              "      <th>4</th>\n",
              "      <td>Resort Hotel</td>\n",
              "      <td>0</td>\n",
              "      <td>14</td>\n",
              "      <td>2015</td>\n",
              "      <td>July</td>\n",
              "      <td>27</td>\n",
              "      <td>1</td>\n",
              "      <td>0</td>\n",
              "      <td>2</td>\n",
              "      <td>2</td>\n",
              "      <td>0.0</td>\n",
              "      <td>0</td>\n",
              "      <td>BB</td>\n",
              "      <td>GBR</td>\n",
              "      <td>Online TA</td>\n",
              "      <td>TA/TO</td>\n",
              "      <td>0</td>\n",
              "      <td>0</td>\n",
              "      <td>0</td>\n",
              "      <td>A</td>\n",
              "      <td>A</td>\n",
              "      <td>0</td>\n",
              "      <td>No Deposit</td>\n",
              "      <td>240.0</td>\n",
              "      <td>NaN</td>\n",
              "      <td>0</td>\n",
              "      <td>Transient</td>\n",
              "      <td>98.0</td>\n",
              "      <td>0</td>\n",
              "      <td>1</td>\n",
              "      <td>Check-Out</td>\n",
              "      <td>2015-07-03</td>\n",
              "    </tr>\n",
              "  </tbody>\n",
              "</table>\n",
              "</div>"
            ],
            "text/plain": [
              "          hotel  is_canceled  ...  reservation_status  reservation_status_date\n",
              "0  Resort Hotel            0  ...           Check-Out               2015-07-01\n",
              "1  Resort Hotel            0  ...           Check-Out               2015-07-01\n",
              "2  Resort Hotel            0  ...           Check-Out               2015-07-02\n",
              "3  Resort Hotel            0  ...           Check-Out               2015-07-02\n",
              "4  Resort Hotel            0  ...           Check-Out               2015-07-03\n",
              "\n",
              "[5 rows x 32 columns]"
            ]
          },
          "metadata": {},
          "execution_count": 336
        }
      ]
    },
    {
      "cell_type": "code",
      "metadata": {
        "colab": {
          "base_uri": "https://localhost:8080/"
        },
        "id": "P278dJm0fdqv",
        "outputId": "02765af0-5687-4e64-93ba-673b28529272"
      },
      "source": [
        "data.info()"
      ],
      "execution_count": 337,
      "outputs": [
        {
          "output_type": "stream",
          "name": "stdout",
          "text": [
            "<class 'pandas.core.frame.DataFrame'>\n",
            "RangeIndex: 119390 entries, 0 to 119389\n",
            "Data columns (total 32 columns):\n",
            " #   Column                          Non-Null Count   Dtype  \n",
            "---  ------                          --------------   -----  \n",
            " 0   hotel                           119390 non-null  object \n",
            " 1   is_canceled                     119390 non-null  int64  \n",
            " 2   lead_time                       119390 non-null  int64  \n",
            " 3   arrival_date_year               119390 non-null  int64  \n",
            " 4   arrival_date_month              119390 non-null  object \n",
            " 5   arrival_date_week_number        119390 non-null  int64  \n",
            " 6   arrival_date_day_of_month       119390 non-null  int64  \n",
            " 7   stays_in_weekend_nights         119390 non-null  int64  \n",
            " 8   stays_in_week_nights            119390 non-null  int64  \n",
            " 9   adults                          119390 non-null  int64  \n",
            " 10  children                        119386 non-null  float64\n",
            " 11  babies                          119390 non-null  int64  \n",
            " 12  meal                            119390 non-null  object \n",
            " 13  country                         118902 non-null  object \n",
            " 14  market_segment                  119390 non-null  object \n",
            " 15  distribution_channel            119390 non-null  object \n",
            " 16  is_repeated_guest               119390 non-null  int64  \n",
            " 17  previous_cancellations          119390 non-null  int64  \n",
            " 18  previous_bookings_not_canceled  119390 non-null  int64  \n",
            " 19  reserved_room_type              119390 non-null  object \n",
            " 20  assigned_room_type              119390 non-null  object \n",
            " 21  booking_changes                 119390 non-null  int64  \n",
            " 22  deposit_type                    119390 non-null  object \n",
            " 23  agent                           103050 non-null  float64\n",
            " 24  company                         6797 non-null    float64\n",
            " 25  days_in_waiting_list            119390 non-null  int64  \n",
            " 26  customer_type                   119390 non-null  object \n",
            " 27  adr                             119390 non-null  float64\n",
            " 28  required_car_parking_spaces     119390 non-null  int64  \n",
            " 29  total_of_special_requests       119390 non-null  int64  \n",
            " 30  reservation_status              119390 non-null  object \n",
            " 31  reservation_status_date         119390 non-null  object \n",
            "dtypes: float64(4), int64(16), object(12)\n",
            "memory usage: 29.1+ MB\n"
          ]
        }
      ]
    },
    {
      "cell_type": "markdown",
      "metadata": {
        "id": "5CnbpNnffo_e"
      },
      "source": [
        "119.390 record data in total. column that have missing value : children, country, agent, & company"
      ]
    },
    {
      "cell_type": "code",
      "metadata": {
        "colab": {
          "base_uri": "https://localhost:8080/"
        },
        "id": "EVGgp_KYIbS5",
        "outputId": "118ce8e1-0cd8-476c-ce46-23fe017cd93d"
      },
      "source": [
        "data.isna().sum()"
      ],
      "execution_count": 338,
      "outputs": [
        {
          "output_type": "execute_result",
          "data": {
            "text/plain": [
              "hotel                                  0\n",
              "is_canceled                            0\n",
              "lead_time                              0\n",
              "arrival_date_year                      0\n",
              "arrival_date_month                     0\n",
              "arrival_date_week_number               0\n",
              "arrival_date_day_of_month              0\n",
              "stays_in_weekend_nights                0\n",
              "stays_in_week_nights                   0\n",
              "adults                                 0\n",
              "children                               4\n",
              "babies                                 0\n",
              "meal                                   0\n",
              "country                              488\n",
              "market_segment                         0\n",
              "distribution_channel                   0\n",
              "is_repeated_guest                      0\n",
              "previous_cancellations                 0\n",
              "previous_bookings_not_canceled         0\n",
              "reserved_room_type                     0\n",
              "assigned_room_type                     0\n",
              "booking_changes                        0\n",
              "deposit_type                           0\n",
              "agent                              16340\n",
              "company                           112593\n",
              "days_in_waiting_list                   0\n",
              "customer_type                          0\n",
              "adr                                    0\n",
              "required_car_parking_spaces            0\n",
              "total_of_special_requests              0\n",
              "reservation_status                     0\n",
              "reservation_status_date                0\n",
              "dtype: int64"
            ]
          },
          "metadata": {},
          "execution_count": 338
        }
      ]
    },
    {
      "cell_type": "code",
      "metadata": {
        "colab": {
          "base_uri": "https://localhost:8080/"
        },
        "id": "6uFEega3kM3W",
        "outputId": "360f6226-b640-4efe-c2de-1094e6c2a426"
      },
      "source": [
        "data.dropna().info()"
      ],
      "execution_count": 339,
      "outputs": [
        {
          "output_type": "stream",
          "name": "stdout",
          "text": [
            "<class 'pandas.core.frame.DataFrame'>\n",
            "Int64Index: 217 entries, 2392 to 116451\n",
            "Data columns (total 32 columns):\n",
            " #   Column                          Non-Null Count  Dtype  \n",
            "---  ------                          --------------  -----  \n",
            " 0   hotel                           217 non-null    object \n",
            " 1   is_canceled                     217 non-null    int64  \n",
            " 2   lead_time                       217 non-null    int64  \n",
            " 3   arrival_date_year               217 non-null    int64  \n",
            " 4   arrival_date_month              217 non-null    object \n",
            " 5   arrival_date_week_number        217 non-null    int64  \n",
            " 6   arrival_date_day_of_month       217 non-null    int64  \n",
            " 7   stays_in_weekend_nights         217 non-null    int64  \n",
            " 8   stays_in_week_nights            217 non-null    int64  \n",
            " 9   adults                          217 non-null    int64  \n",
            " 10  children                        217 non-null    float64\n",
            " 11  babies                          217 non-null    int64  \n",
            " 12  meal                            217 non-null    object \n",
            " 13  country                         217 non-null    object \n",
            " 14  market_segment                  217 non-null    object \n",
            " 15  distribution_channel            217 non-null    object \n",
            " 16  is_repeated_guest               217 non-null    int64  \n",
            " 17  previous_cancellations          217 non-null    int64  \n",
            " 18  previous_bookings_not_canceled  217 non-null    int64  \n",
            " 19  reserved_room_type              217 non-null    object \n",
            " 20  assigned_room_type              217 non-null    object \n",
            " 21  booking_changes                 217 non-null    int64  \n",
            " 22  deposit_type                    217 non-null    object \n",
            " 23  agent                           217 non-null    float64\n",
            " 24  company                         217 non-null    float64\n",
            " 25  days_in_waiting_list            217 non-null    int64  \n",
            " 26  customer_type                   217 non-null    object \n",
            " 27  adr                             217 non-null    float64\n",
            " 28  required_car_parking_spaces     217 non-null    int64  \n",
            " 29  total_of_special_requests       217 non-null    int64  \n",
            " 30  reservation_status              217 non-null    object \n",
            " 31  reservation_status_date         217 non-null    object \n",
            "dtypes: float64(4), int64(16), object(12)\n",
            "memory usage: 55.9+ KB\n"
          ]
        }
      ]
    },
    {
      "cell_type": "markdown",
      "metadata": {
        "id": "83yzu4dypO1f"
      },
      "source": [
        "kalau data dengan missing value NaN didrop, total data menjadi 217 saja dan mungkin banyak record penting yang hilang,\n",
        "\n",
        "sehingga, tindakan yang dilakukan adalah menghapus kolom dengan missing value NaN terbanyak (>35%)"
      ]
    },
    {
      "cell_type": "code",
      "metadata": {
        "colab": {
          "base_uri": "https://localhost:8080/"
        },
        "id": "W1CBXu5rmJrU",
        "outputId": "58f3e908-bca9-47d8-dff4-f3ce385dd33b"
      },
      "source": [
        "data.info()"
      ],
      "execution_count": 340,
      "outputs": [
        {
          "output_type": "stream",
          "name": "stdout",
          "text": [
            "<class 'pandas.core.frame.DataFrame'>\n",
            "RangeIndex: 119390 entries, 0 to 119389\n",
            "Data columns (total 32 columns):\n",
            " #   Column                          Non-Null Count   Dtype  \n",
            "---  ------                          --------------   -----  \n",
            " 0   hotel                           119390 non-null  object \n",
            " 1   is_canceled                     119390 non-null  int64  \n",
            " 2   lead_time                       119390 non-null  int64  \n",
            " 3   arrival_date_year               119390 non-null  int64  \n",
            " 4   arrival_date_month              119390 non-null  object \n",
            " 5   arrival_date_week_number        119390 non-null  int64  \n",
            " 6   arrival_date_day_of_month       119390 non-null  int64  \n",
            " 7   stays_in_weekend_nights         119390 non-null  int64  \n",
            " 8   stays_in_week_nights            119390 non-null  int64  \n",
            " 9   adults                          119390 non-null  int64  \n",
            " 10  children                        119386 non-null  float64\n",
            " 11  babies                          119390 non-null  int64  \n",
            " 12  meal                            119390 non-null  object \n",
            " 13  country                         118902 non-null  object \n",
            " 14  market_segment                  119390 non-null  object \n",
            " 15  distribution_channel            119390 non-null  object \n",
            " 16  is_repeated_guest               119390 non-null  int64  \n",
            " 17  previous_cancellations          119390 non-null  int64  \n",
            " 18  previous_bookings_not_canceled  119390 non-null  int64  \n",
            " 19  reserved_room_type              119390 non-null  object \n",
            " 20  assigned_room_type              119390 non-null  object \n",
            " 21  booking_changes                 119390 non-null  int64  \n",
            " 22  deposit_type                    119390 non-null  object \n",
            " 23  agent                           103050 non-null  float64\n",
            " 24  company                         6797 non-null    float64\n",
            " 25  days_in_waiting_list            119390 non-null  int64  \n",
            " 26  customer_type                   119390 non-null  object \n",
            " 27  adr                             119390 non-null  float64\n",
            " 28  required_car_parking_spaces     119390 non-null  int64  \n",
            " 29  total_of_special_requests       119390 non-null  int64  \n",
            " 30  reservation_status              119390 non-null  object \n",
            " 31  reservation_status_date         119390 non-null  object \n",
            "dtypes: float64(4), int64(16), object(12)\n",
            "memory usage: 29.1+ MB\n"
          ]
        }
      ]
    },
    {
      "cell_type": "code",
      "metadata": {
        "colab": {
          "base_uri": "https://localhost:8080/"
        },
        "id": "iK5FcJdjlakg",
        "outputId": "4ff5b135-dff5-4e81-cfe0-d86e81eebbba"
      },
      "source": [
        "#NaN country\n",
        "100 * 488 / len(data)"
      ],
      "execution_count": 341,
      "outputs": [
        {
          "output_type": "execute_result",
          "data": {
            "text/plain": [
              "0.40874445095904177"
            ]
          },
          "metadata": {},
          "execution_count": 341
        }
      ]
    },
    {
      "cell_type": "code",
      "metadata": {
        "colab": {
          "base_uri": "https://localhost:8080/"
        },
        "id": "wuxGPdbSloWs",
        "outputId": "9fdd900f-9adc-4628-9f4c-1b357481bd7f"
      },
      "source": [
        "#NaN agent\n",
        "100 * 16340 / len(data)"
      ],
      "execution_count": 342,
      "outputs": [
        {
          "output_type": "execute_result",
          "data": {
            "text/plain": [
              "13.686238378423653"
            ]
          },
          "metadata": {},
          "execution_count": 342
        }
      ]
    },
    {
      "cell_type": "code",
      "metadata": {
        "colab": {
          "base_uri": "https://localhost:8080/"
        },
        "id": "jjQAEKROlrG8",
        "outputId": "68b9ccf6-740d-4cfe-a7cd-0831672be067"
      },
      "source": [
        "#NaN company\n",
        "100 * 112593 / len(data)"
      ],
      "execution_count": 343,
      "outputs": [
        {
          "output_type": "execute_result",
          "data": {
            "text/plain": [
              "94.30689337465449"
            ]
          },
          "metadata": {},
          "execution_count": 343
        }
      ]
    },
    {
      "cell_type": "markdown",
      "metadata": {
        "id": "nFAI1XA1peIx"
      },
      "source": [
        "**kolom company memiliki jumlah missing value jauh diatas 35% dari total record data (94.3%), sehingga akan di drop karena tidak ada informasi yang dapat diambil**"
      ]
    },
    {
      "cell_type": "code",
      "metadata": {
        "id": "rJ3jBhi4pVCt"
      },
      "source": [
        "data = data.drop(columns=['company'])"
      ],
      "execution_count": 344,
      "outputs": []
    },
    {
      "cell_type": "code",
      "metadata": {
        "colab": {
          "base_uri": "https://localhost:8080/",
          "height": 305
        },
        "id": "8Tgyn1VpquOO",
        "outputId": "4967861f-986c-4da9-8cec-ca8d6a179132"
      },
      "source": [
        "data.head()"
      ],
      "execution_count": 345,
      "outputs": [
        {
          "output_type": "execute_result",
          "data": {
            "text/html": [
              "<div>\n",
              "<style scoped>\n",
              "    .dataframe tbody tr th:only-of-type {\n",
              "        vertical-align: middle;\n",
              "    }\n",
              "\n",
              "    .dataframe tbody tr th {\n",
              "        vertical-align: top;\n",
              "    }\n",
              "\n",
              "    .dataframe thead th {\n",
              "        text-align: right;\n",
              "    }\n",
              "</style>\n",
              "<table border=\"1\" class=\"dataframe\">\n",
              "  <thead>\n",
              "    <tr style=\"text-align: right;\">\n",
              "      <th></th>\n",
              "      <th>hotel</th>\n",
              "      <th>is_canceled</th>\n",
              "      <th>lead_time</th>\n",
              "      <th>arrival_date_year</th>\n",
              "      <th>arrival_date_month</th>\n",
              "      <th>arrival_date_week_number</th>\n",
              "      <th>arrival_date_day_of_month</th>\n",
              "      <th>stays_in_weekend_nights</th>\n",
              "      <th>stays_in_week_nights</th>\n",
              "      <th>adults</th>\n",
              "      <th>children</th>\n",
              "      <th>babies</th>\n",
              "      <th>meal</th>\n",
              "      <th>country</th>\n",
              "      <th>market_segment</th>\n",
              "      <th>distribution_channel</th>\n",
              "      <th>is_repeated_guest</th>\n",
              "      <th>previous_cancellations</th>\n",
              "      <th>previous_bookings_not_canceled</th>\n",
              "      <th>reserved_room_type</th>\n",
              "      <th>assigned_room_type</th>\n",
              "      <th>booking_changes</th>\n",
              "      <th>deposit_type</th>\n",
              "      <th>agent</th>\n",
              "      <th>days_in_waiting_list</th>\n",
              "      <th>customer_type</th>\n",
              "      <th>adr</th>\n",
              "      <th>required_car_parking_spaces</th>\n",
              "      <th>total_of_special_requests</th>\n",
              "      <th>reservation_status</th>\n",
              "      <th>reservation_status_date</th>\n",
              "    </tr>\n",
              "  </thead>\n",
              "  <tbody>\n",
              "    <tr>\n",
              "      <th>0</th>\n",
              "      <td>Resort Hotel</td>\n",
              "      <td>0</td>\n",
              "      <td>342</td>\n",
              "      <td>2015</td>\n",
              "      <td>July</td>\n",
              "      <td>27</td>\n",
              "      <td>1</td>\n",
              "      <td>0</td>\n",
              "      <td>0</td>\n",
              "      <td>2</td>\n",
              "      <td>0.0</td>\n",
              "      <td>0</td>\n",
              "      <td>BB</td>\n",
              "      <td>PRT</td>\n",
              "      <td>Direct</td>\n",
              "      <td>Direct</td>\n",
              "      <td>0</td>\n",
              "      <td>0</td>\n",
              "      <td>0</td>\n",
              "      <td>C</td>\n",
              "      <td>C</td>\n",
              "      <td>3</td>\n",
              "      <td>No Deposit</td>\n",
              "      <td>NaN</td>\n",
              "      <td>0</td>\n",
              "      <td>Transient</td>\n",
              "      <td>0.0</td>\n",
              "      <td>0</td>\n",
              "      <td>0</td>\n",
              "      <td>Check-Out</td>\n",
              "      <td>2015-07-01</td>\n",
              "    </tr>\n",
              "    <tr>\n",
              "      <th>1</th>\n",
              "      <td>Resort Hotel</td>\n",
              "      <td>0</td>\n",
              "      <td>737</td>\n",
              "      <td>2015</td>\n",
              "      <td>July</td>\n",
              "      <td>27</td>\n",
              "      <td>1</td>\n",
              "      <td>0</td>\n",
              "      <td>0</td>\n",
              "      <td>2</td>\n",
              "      <td>0.0</td>\n",
              "      <td>0</td>\n",
              "      <td>BB</td>\n",
              "      <td>PRT</td>\n",
              "      <td>Direct</td>\n",
              "      <td>Direct</td>\n",
              "      <td>0</td>\n",
              "      <td>0</td>\n",
              "      <td>0</td>\n",
              "      <td>C</td>\n",
              "      <td>C</td>\n",
              "      <td>4</td>\n",
              "      <td>No Deposit</td>\n",
              "      <td>NaN</td>\n",
              "      <td>0</td>\n",
              "      <td>Transient</td>\n",
              "      <td>0.0</td>\n",
              "      <td>0</td>\n",
              "      <td>0</td>\n",
              "      <td>Check-Out</td>\n",
              "      <td>2015-07-01</td>\n",
              "    </tr>\n",
              "    <tr>\n",
              "      <th>2</th>\n",
              "      <td>Resort Hotel</td>\n",
              "      <td>0</td>\n",
              "      <td>7</td>\n",
              "      <td>2015</td>\n",
              "      <td>July</td>\n",
              "      <td>27</td>\n",
              "      <td>1</td>\n",
              "      <td>0</td>\n",
              "      <td>1</td>\n",
              "      <td>1</td>\n",
              "      <td>0.0</td>\n",
              "      <td>0</td>\n",
              "      <td>BB</td>\n",
              "      <td>GBR</td>\n",
              "      <td>Direct</td>\n",
              "      <td>Direct</td>\n",
              "      <td>0</td>\n",
              "      <td>0</td>\n",
              "      <td>0</td>\n",
              "      <td>A</td>\n",
              "      <td>C</td>\n",
              "      <td>0</td>\n",
              "      <td>No Deposit</td>\n",
              "      <td>NaN</td>\n",
              "      <td>0</td>\n",
              "      <td>Transient</td>\n",
              "      <td>75.0</td>\n",
              "      <td>0</td>\n",
              "      <td>0</td>\n",
              "      <td>Check-Out</td>\n",
              "      <td>2015-07-02</td>\n",
              "    </tr>\n",
              "    <tr>\n",
              "      <th>3</th>\n",
              "      <td>Resort Hotel</td>\n",
              "      <td>0</td>\n",
              "      <td>13</td>\n",
              "      <td>2015</td>\n",
              "      <td>July</td>\n",
              "      <td>27</td>\n",
              "      <td>1</td>\n",
              "      <td>0</td>\n",
              "      <td>1</td>\n",
              "      <td>1</td>\n",
              "      <td>0.0</td>\n",
              "      <td>0</td>\n",
              "      <td>BB</td>\n",
              "      <td>GBR</td>\n",
              "      <td>Corporate</td>\n",
              "      <td>Corporate</td>\n",
              "      <td>0</td>\n",
              "      <td>0</td>\n",
              "      <td>0</td>\n",
              "      <td>A</td>\n",
              "      <td>A</td>\n",
              "      <td>0</td>\n",
              "      <td>No Deposit</td>\n",
              "      <td>304.0</td>\n",
              "      <td>0</td>\n",
              "      <td>Transient</td>\n",
              "      <td>75.0</td>\n",
              "      <td>0</td>\n",
              "      <td>0</td>\n",
              "      <td>Check-Out</td>\n",
              "      <td>2015-07-02</td>\n",
              "    </tr>\n",
              "    <tr>\n",
              "      <th>4</th>\n",
              "      <td>Resort Hotel</td>\n",
              "      <td>0</td>\n",
              "      <td>14</td>\n",
              "      <td>2015</td>\n",
              "      <td>July</td>\n",
              "      <td>27</td>\n",
              "      <td>1</td>\n",
              "      <td>0</td>\n",
              "      <td>2</td>\n",
              "      <td>2</td>\n",
              "      <td>0.0</td>\n",
              "      <td>0</td>\n",
              "      <td>BB</td>\n",
              "      <td>GBR</td>\n",
              "      <td>Online TA</td>\n",
              "      <td>TA/TO</td>\n",
              "      <td>0</td>\n",
              "      <td>0</td>\n",
              "      <td>0</td>\n",
              "      <td>A</td>\n",
              "      <td>A</td>\n",
              "      <td>0</td>\n",
              "      <td>No Deposit</td>\n",
              "      <td>240.0</td>\n",
              "      <td>0</td>\n",
              "      <td>Transient</td>\n",
              "      <td>98.0</td>\n",
              "      <td>0</td>\n",
              "      <td>1</td>\n",
              "      <td>Check-Out</td>\n",
              "      <td>2015-07-03</td>\n",
              "    </tr>\n",
              "  </tbody>\n",
              "</table>\n",
              "</div>"
            ],
            "text/plain": [
              "          hotel  is_canceled  ...  reservation_status  reservation_status_date\n",
              "0  Resort Hotel            0  ...           Check-Out               2015-07-01\n",
              "1  Resort Hotel            0  ...           Check-Out               2015-07-01\n",
              "2  Resort Hotel            0  ...           Check-Out               2015-07-02\n",
              "3  Resort Hotel            0  ...           Check-Out               2015-07-02\n",
              "4  Resort Hotel            0  ...           Check-Out               2015-07-03\n",
              "\n",
              "[5 rows x 31 columns]"
            ]
          },
          "metadata": {},
          "execution_count": 345
        }
      ]
    },
    {
      "cell_type": "markdown",
      "metadata": {
        "id": "iWcDPaXou2-p"
      },
      "source": [
        "**Selanjutnya, akan kita hapus record data yang mengandung missing values NaN**"
      ]
    },
    {
      "cell_type": "code",
      "metadata": {
        "id": "-MHc5m1zu0P7"
      },
      "source": [
        "data = data.dropna()"
      ],
      "execution_count": 346,
      "outputs": []
    },
    {
      "cell_type": "code",
      "metadata": {
        "colab": {
          "base_uri": "https://localhost:8080/"
        },
        "id": "bIlnenvAu0ui",
        "outputId": "473cc248-3a93-4445-9467-2e6f43138a90"
      },
      "source": [
        "data.info()"
      ],
      "execution_count": 347,
      "outputs": [
        {
          "output_type": "stream",
          "name": "stdout",
          "text": [
            "<class 'pandas.core.frame.DataFrame'>\n",
            "Int64Index: 102894 entries, 3 to 119389\n",
            "Data columns (total 31 columns):\n",
            " #   Column                          Non-Null Count   Dtype  \n",
            "---  ------                          --------------   -----  \n",
            " 0   hotel                           102894 non-null  object \n",
            " 1   is_canceled                     102894 non-null  int64  \n",
            " 2   lead_time                       102894 non-null  int64  \n",
            " 3   arrival_date_year               102894 non-null  int64  \n",
            " 4   arrival_date_month              102894 non-null  object \n",
            " 5   arrival_date_week_number        102894 non-null  int64  \n",
            " 6   arrival_date_day_of_month       102894 non-null  int64  \n",
            " 7   stays_in_weekend_nights         102894 non-null  int64  \n",
            " 8   stays_in_week_nights            102894 non-null  int64  \n",
            " 9   adults                          102894 non-null  int64  \n",
            " 10  children                        102894 non-null  float64\n",
            " 11  babies                          102894 non-null  int64  \n",
            " 12  meal                            102894 non-null  object \n",
            " 13  country                         102894 non-null  object \n",
            " 14  market_segment                  102894 non-null  object \n",
            " 15  distribution_channel            102894 non-null  object \n",
            " 16  is_repeated_guest               102894 non-null  int64  \n",
            " 17  previous_cancellations          102894 non-null  int64  \n",
            " 18  previous_bookings_not_canceled  102894 non-null  int64  \n",
            " 19  reserved_room_type              102894 non-null  object \n",
            " 20  assigned_room_type              102894 non-null  object \n",
            " 21  booking_changes                 102894 non-null  int64  \n",
            " 22  deposit_type                    102894 non-null  object \n",
            " 23  agent                           102894 non-null  float64\n",
            " 24  days_in_waiting_list            102894 non-null  int64  \n",
            " 25  customer_type                   102894 non-null  object \n",
            " 26  adr                             102894 non-null  float64\n",
            " 27  required_car_parking_spaces     102894 non-null  int64  \n",
            " 28  total_of_special_requests       102894 non-null  int64  \n",
            " 29  reservation_status              102894 non-null  object \n",
            " 30  reservation_status_date         102894 non-null  object \n",
            "dtypes: float64(3), int64(16), object(12)\n",
            "memory usage: 25.1+ MB\n"
          ]
        }
      ]
    },
    {
      "cell_type": "code",
      "metadata": {
        "colab": {
          "base_uri": "https://localhost:8080/"
        },
        "id": "28HGYIZGtamx",
        "outputId": "52bbecd7-fcbe-4b88-d2a0-52f4cc421d5c"
      },
      "source": [
        "data.isna().sum()"
      ],
      "execution_count": 348,
      "outputs": [
        {
          "output_type": "execute_result",
          "data": {
            "text/plain": [
              "hotel                             0\n",
              "is_canceled                       0\n",
              "lead_time                         0\n",
              "arrival_date_year                 0\n",
              "arrival_date_month                0\n",
              "arrival_date_week_number          0\n",
              "arrival_date_day_of_month         0\n",
              "stays_in_weekend_nights           0\n",
              "stays_in_week_nights              0\n",
              "adults                            0\n",
              "children                          0\n",
              "babies                            0\n",
              "meal                              0\n",
              "country                           0\n",
              "market_segment                    0\n",
              "distribution_channel              0\n",
              "is_repeated_guest                 0\n",
              "previous_cancellations            0\n",
              "previous_bookings_not_canceled    0\n",
              "reserved_room_type                0\n",
              "assigned_room_type                0\n",
              "booking_changes                   0\n",
              "deposit_type                      0\n",
              "agent                             0\n",
              "days_in_waiting_list              0\n",
              "customer_type                     0\n",
              "adr                               0\n",
              "required_car_parking_spaces       0\n",
              "total_of_special_requests         0\n",
              "reservation_status                0\n",
              "reservation_status_date           0\n",
              "dtype: int64"
            ]
          },
          "metadata": {},
          "execution_count": 348
        }
      ]
    },
    {
      "cell_type": "markdown",
      "metadata": {
        "id": "fBaQ1kd5vFtx"
      },
      "source": [
        "**selain NaN, ternyata ditemukan missing value lain dengan bentuk \"Undefined\"**"
      ]
    },
    {
      "cell_type": "code",
      "metadata": {
        "colab": {
          "base_uri": "https://localhost:8080/",
          "height": 1000
        },
        "id": "TBwQMXwNRJ4y",
        "outputId": "76e116c3-a645-443e-cb6f-8cf609edd9e7"
      },
      "source": [
        "for column in data.columns:\n",
        "    print(f\"============= {column} =================\")\n",
        "    display(data[column].value_counts())\n",
        "    print()"
      ],
      "execution_count": 349,
      "outputs": [
        {
          "output_type": "stream",
          "name": "stdout",
          "text": [
            "============= hotel =================\n"
          ]
        },
        {
          "output_type": "display_data",
          "data": {
            "text/plain": [
              "City Hotel      71181\n",
              "Resort Hotel    31713\n",
              "Name: hotel, dtype: int64"
            ]
          },
          "metadata": {}
        },
        {
          "output_type": "stream",
          "name": "stdout",
          "text": [
            "\n",
            "============= is_canceled =================\n"
          ]
        },
        {
          "output_type": "display_data",
          "data": {
            "text/plain": [
              "0    62733\n",
              "1    40161\n",
              "Name: is_canceled, dtype: int64"
            ]
          },
          "metadata": {}
        },
        {
          "output_type": "stream",
          "name": "stdout",
          "text": [
            "\n",
            "============= lead_time =================\n"
          ]
        },
        {
          "output_type": "display_data",
          "data": {
            "text/plain": [
              "0      2845\n",
              "1      2318\n",
              "2      1424\n",
              "3      1279\n",
              "4      1228\n",
              "       ... \n",
              "382       1\n",
              "424       1\n",
              "463       1\n",
              "362       1\n",
              "458       1\n",
              "Name: lead_time, Length: 475, dtype: int64"
            ]
          },
          "metadata": {}
        },
        {
          "output_type": "stream",
          "name": "stdout",
          "text": [
            "\n",
            "============= arrival_date_year =================\n"
          ]
        },
        {
          "output_type": "display_data",
          "data": {
            "text/plain": [
              "2016    49056\n",
              "2017    34995\n",
              "2015    18843\n",
              "Name: arrival_date_year, dtype: int64"
            ]
          },
          "metadata": {}
        },
        {
          "output_type": "stream",
          "name": "stdout",
          "text": [
            "\n",
            "============= arrival_date_month =================\n"
          ]
        },
        {
          "output_type": "display_data",
          "data": {
            "text/plain": [
              "August       12672\n",
              "July         11599\n",
              "May          10087\n",
              "June          9803\n",
              "April         9746\n",
              "October       9437\n",
              "September     9411\n",
              "March         8132\n",
              "February      6445\n",
              "December      5620\n",
              "November      5396\n",
              "January       4546\n",
              "Name: arrival_date_month, dtype: int64"
            ]
          },
          "metadata": {}
        },
        {
          "output_type": "stream",
          "name": "stdout",
          "text": [
            "\n",
            "============= arrival_date_week_number =================\n"
          ]
        },
        {
          "output_type": "display_data",
          "data": {
            "text/plain": [
              "33    3283\n",
              "30    2800\n",
              "32    2776\n",
              "34    2762\n",
              "18    2660\n",
              "28    2565\n",
              "29    2563\n",
              "31    2540\n",
              "27    2489\n",
              "17    2486\n",
              "15    2454\n",
              "41    2441\n",
              "21    2411\n",
              "25    2383\n",
              "39    2349\n",
              "35    2336\n",
              "38    2328\n",
              "23    2321\n",
              "20    2314\n",
              "24    2216\n",
              "42    2205\n",
              "40    2195\n",
              "13    2185\n",
              "22    2168\n",
              "19    2135\n",
              "16    2130\n",
              "26    2118\n",
              "36    1981\n",
              "37    1969\n",
              "44    1946\n",
              "43    1851\n",
              "10    1829\n",
              "12    1807\n",
              "14    1728\n",
              "7     1713\n",
              "45    1698\n",
              "9     1677\n",
              "11    1661\n",
              "8     1659\n",
              "53    1486\n",
              "47    1383\n",
              "49    1343\n",
              "50    1282\n",
              "46    1212\n",
              "48    1179\n",
              "4     1173\n",
              "6     1146\n",
              "5     1091\n",
              "52    1066\n",
              "3      955\n",
              "1      900\n",
              "2      856\n",
              "51     690\n",
              "Name: arrival_date_week_number, dtype: int64"
            ]
          },
          "metadata": {}
        },
        {
          "output_type": "stream",
          "name": "stdout",
          "text": [
            "\n",
            "============= arrival_date_day_of_month =================\n"
          ]
        },
        {
          "output_type": "display_data",
          "data": {
            "text/plain": [
              "17    3712\n",
              "26    3697\n",
              "25    3695\n",
              "5     3683\n",
              "16    3566\n",
              "18    3536\n",
              "8     3521\n",
              "12    3516\n",
              "20    3471\n",
              "28    3457\n",
              "24    3430\n",
              "9     3422\n",
              "2     3421\n",
              "3     3381\n",
              "13    3360\n",
              "6     3352\n",
              "19    3344\n",
              "27    3342\n",
              "4     3321\n",
              "15    3281\n",
              "30    3235\n",
              "23    3202\n",
              "21    3202\n",
              "14    3199\n",
              "1     3189\n",
              "10    3145\n",
              "29    3136\n",
              "7     3122\n",
              "11    3110\n",
              "22    3077\n",
              "31    1769\n",
              "Name: arrival_date_day_of_month, dtype: int64"
            ]
          },
          "metadata": {}
        },
        {
          "output_type": "stream",
          "name": "stdout",
          "text": [
            "\n",
            "============= stays_in_weekend_nights =================\n"
          ]
        },
        {
          "output_type": "display_data",
          "data": {
            "text/plain": [
              "0     42421\n",
              "2     31120\n",
              "1     26217\n",
              "4      1712\n",
              "3      1127\n",
              "6       144\n",
              "5        62\n",
              "8        53\n",
              "7        16\n",
              "10        6\n",
              "12        5\n",
              "9         5\n",
              "16        3\n",
              "13        2\n",
              "14        1\n",
              "Name: stays_in_weekend_nights, dtype: int64"
            ]
          },
          "metadata": {}
        },
        {
          "output_type": "stream",
          "name": "stdout",
          "text": [
            "\n",
            "============= stays_in_week_nights =================\n"
          ]
        },
        {
          "output_type": "display_data",
          "data": {
            "text/plain": [
              "2     30124\n",
              "1     23790\n",
              "3     19935\n",
              "5     10353\n",
              "4      8550\n",
              "0      5725\n",
              "6      1362\n",
              "10      964\n",
              "7       938\n",
              "8       600\n",
              "9       194\n",
              "15       79\n",
              "11       50\n",
              "19       41\n",
              "12       39\n",
              "20       36\n",
              "14       33\n",
              "13       23\n",
              "16       16\n",
              "21       14\n",
              "18        5\n",
              "22        5\n",
              "30        5\n",
              "25        4\n",
              "17        3\n",
              "40        2\n",
              "26        1\n",
              "33        1\n",
              "34        1\n",
              "41        1\n",
              "Name: stays_in_week_nights, dtype: int64"
            ]
          },
          "metadata": {}
        },
        {
          "output_type": "stream",
          "name": "stdout",
          "text": [
            "\n",
            "============= adults =================\n"
          ]
        },
        {
          "output_type": "display_data",
          "data": {
            "text/plain": [
              "2     81072\n",
              "1     15653\n",
              "3      5788\n",
              "0       326\n",
              "4        50\n",
              "26        5\n",
              "Name: adults, dtype: int64"
            ]
          },
          "metadata": {}
        },
        {
          "output_type": "stream",
          "name": "stdout",
          "text": [
            "\n",
            "============= children =================\n"
          ]
        },
        {
          "output_type": "display_data",
          "data": {
            "text/plain": [
              "0.0     95001\n",
              "1.0      4407\n",
              "2.0      3427\n",
              "3.0        58\n",
              "10.0        1\n",
              "Name: children, dtype: int64"
            ]
          },
          "metadata": {}
        },
        {
          "output_type": "stream",
          "name": "stdout",
          "text": [
            "\n",
            "============= babies =================\n"
          ]
        },
        {
          "output_type": "display_data",
          "data": {
            "text/plain": [
              "0     102130\n",
              "1        751\n",
              "2         11\n",
              "10         1\n",
              "9          1\n",
              "Name: babies, dtype: int64"
            ]
          },
          "metadata": {}
        },
        {
          "output_type": "stream",
          "name": "stdout",
          "text": [
            "\n",
            "============= meal =================\n"
          ]
        },
        {
          "output_type": "display_data",
          "data": {
            "text/plain": [
              "BB           77638\n",
              "HB           13421\n",
              "SC           10334\n",
              "Undefined      830\n",
              "FB             671\n",
              "Name: meal, dtype: int64"
            ]
          },
          "metadata": {}
        },
        {
          "output_type": "stream",
          "name": "stdout",
          "text": [
            "\n",
            "============= country =================\n"
          ]
        },
        {
          "output_type": "display_data",
          "data": {
            "text/plain": [
              "PRT    37591\n",
              "GBR    10889\n",
              "FRA     9810\n",
              "ESP     7848\n",
              "DEU     6998\n",
              "       ...  \n",
              "DJI        1\n",
              "UMI        1\n",
              "BHS        1\n",
              "CYM        1\n",
              "AIA        1\n",
              "Name: country, Length: 174, dtype: int64"
            ]
          },
          "metadata": {}
        },
        {
          "output_type": "stream",
          "name": "stdout",
          "text": [
            "\n",
            "============= market_segment =================\n"
          ]
        },
        {
          "output_type": "display_data",
          "data": {
            "text/plain": [
              "Online TA        56057\n",
              "Offline TA/TO    23774\n",
              "Groups           15661\n",
              "Direct            6582\n",
              "Corporate          692\n",
              "Complementary      103\n",
              "Aviation            25\n",
              "Name: market_segment, dtype: int64"
            ]
          },
          "metadata": {}
        },
        {
          "output_type": "stream",
          "name": "stdout",
          "text": [
            "\n",
            "============= distribution_channel =================\n"
          ]
        },
        {
          "output_type": "display_data",
          "data": {
            "text/plain": [
              "TA/TO        94575\n",
              "Direct        7003\n",
              "Corporate     1125\n",
              "GDS            191\n",
              "Name: distribution_channel, dtype: int64"
            ]
          },
          "metadata": {}
        },
        {
          "output_type": "stream",
          "name": "stdout",
          "text": [
            "\n",
            "============= is_repeated_guest =================\n"
          ]
        },
        {
          "output_type": "display_data",
          "data": {
            "text/plain": [
              "0    101450\n",
              "1      1444\n",
              "Name: is_repeated_guest, dtype: int64"
            ]
          },
          "metadata": {}
        },
        {
          "output_type": "stream",
          "name": "stdout",
          "text": [
            "\n",
            "============= previous_cancellations =================\n"
          ]
        },
        {
          "output_type": "display_data",
          "data": {
            "text/plain": [
              "0     97339\n",
              "1      5384\n",
              "2        36\n",
              "26       26\n",
              "25       25\n",
              "11       25\n",
              "24       24\n",
              "14       14\n",
              "3         9\n",
              "6         6\n",
              "13        4\n",
              "21        1\n",
              "5         1\n",
              "Name: previous_cancellations, dtype: int64"
            ]
          },
          "metadata": {}
        },
        {
          "output_type": "stream",
          "name": "stdout",
          "text": [
            "\n",
            "============= previous_bookings_not_canceled =================\n"
          ]
        },
        {
          "output_type": "display_data",
          "data": {
            "text/plain": [
              "0     101909\n",
              "1        605\n",
              "2        145\n",
              "3         59\n",
              "4         43\n",
              "5         38\n",
              "6         22\n",
              "7         12\n",
              "9          9\n",
              "10         9\n",
              "8          8\n",
              "12         4\n",
              "22         4\n",
              "11         3\n",
              "13         3\n",
              "14         3\n",
              "16         3\n",
              "15         2\n",
              "17         2\n",
              "19         2\n",
              "20         2\n",
              "21         2\n",
              "25         1\n",
              "18         1\n",
              "23         1\n",
              "24         1\n",
              "50         1\n",
              "Name: previous_bookings_not_canceled, dtype: int64"
            ]
          },
          "metadata": {}
        },
        {
          "output_type": "stream",
          "name": "stdout",
          "text": [
            "\n",
            "============= reserved_room_type =================\n"
          ]
        },
        {
          "output_type": "display_data",
          "data": {
            "text/plain": [
              "A    73265\n",
              "D    17535\n",
              "E     5457\n",
              "F     2537\n",
              "G     1809\n",
              "B      992\n",
              "C      765\n",
              "H      534\n",
              "Name: reserved_room_type, dtype: int64"
            ]
          },
          "metadata": {}
        },
        {
          "output_type": "stream",
          "name": "stdout",
          "text": [
            "\n",
            "============= assigned_room_type =================\n"
          ]
        },
        {
          "output_type": "display_data",
          "data": {
            "text/plain": [
              "A    64502\n",
              "D    21938\n",
              "E     6306\n",
              "F     3134\n",
              "G     2169\n",
              "B     1879\n",
              "C     1868\n",
              "H      601\n",
              "I      274\n",
              "K      223\n",
              "Name: assigned_room_type, dtype: int64"
            ]
          },
          "metadata": {}
        },
        {
          "output_type": "stream",
          "name": "stdout",
          "text": [
            "\n",
            "============= booking_changes =================\n"
          ]
        },
        {
          "output_type": "display_data",
          "data": {
            "text/plain": [
              "0     88645\n",
              "1     10020\n",
              "2      3037\n",
              "3       696\n",
              "4       286\n",
              "5        83\n",
              "6        54\n",
              "7        26\n",
              "8        14\n",
              "9         8\n",
              "10        6\n",
              "13        5\n",
              "14        3\n",
              "15        3\n",
              "17        2\n",
              "12        2\n",
              "16        2\n",
              "11        1\n",
              "18        1\n",
              "Name: booking_changes, dtype: int64"
            ]
          },
          "metadata": {}
        },
        {
          "output_type": "stream",
          "name": "stdout",
          "text": [
            "\n",
            "============= deposit_type =================\n"
          ]
        },
        {
          "output_type": "display_data",
          "data": {
            "text/plain": [
              "No Deposit    90324\n",
              "Non Refund    12522\n",
              "Refundable       48\n",
              "Name: deposit_type, dtype: int64"
            ]
          },
          "metadata": {}
        },
        {
          "output_type": "stream",
          "name": "stdout",
          "text": [
            "\n",
            "============= agent =================\n"
          ]
        },
        {
          "output_type": "display_data",
          "data": {
            "text/plain": [
              "9.0      31959\n",
              "240.0    13871\n",
              "1.0       7191\n",
              "14.0      3638\n",
              "7.0       3539\n",
              "         ...  \n",
              "197.0        1\n",
              "450.0        1\n",
              "352.0        1\n",
              "367.0        1\n",
              "346.0        1\n",
              "Name: agent, Length: 332, dtype: int64"
            ]
          },
          "metadata": {}
        },
        {
          "output_type": "stream",
          "name": "stdout",
          "text": [
            "\n",
            "============= days_in_waiting_list =================\n"
          ]
        },
        {
          "output_type": "display_data",
          "data": {
            "text/plain": [
              "0      99355\n",
              "39       226\n",
              "58       164\n",
              "44       140\n",
              "31       107\n",
              "       ...  \n",
              "92         1\n",
              "81         1\n",
              "52         1\n",
              "116        1\n",
              "89         1\n",
              "Name: days_in_waiting_list, Length: 122, dtype: int64"
            ]
          },
          "metadata": {}
        },
        {
          "output_type": "stream",
          "name": "stdout",
          "text": [
            "\n",
            "============= customer_type =================\n"
          ]
        },
        {
          "output_type": "display_data",
          "data": {
            "text/plain": [
              "Transient          77756\n",
              "Transient-Party    20602\n",
              "Contract            4063\n",
              "Group                473\n",
              "Name: customer_type, dtype: int64"
            ]
          },
          "metadata": {}
        },
        {
          "output_type": "stream",
          "name": "stdout",
          "text": [
            "\n",
            "============= adr =================\n"
          ]
        },
        {
          "output_type": "display_data",
          "data": {
            "text/plain": [
              "62.00     3712\n",
              "90.00     2231\n",
              "75.00     2060\n",
              "80.00     1534\n",
              "65.00     1447\n",
              "          ... \n",
              "6.40         1\n",
              "152.05       1\n",
              "69.44        1\n",
              "225.33       1\n",
              "7.00         1\n",
              "Name: adr, Length: 8627, dtype: int64"
            ]
          },
          "metadata": {}
        },
        {
          "output_type": "stream",
          "name": "stdout",
          "text": [
            "\n",
            "============= required_car_parking_spaces =================\n"
          ]
        },
        {
          "output_type": "display_data",
          "data": {
            "text/plain": [
              "0    97463\n",
              "1     5408\n",
              "2       20\n",
              "3        3\n",
              "Name: required_car_parking_spaces, dtype: int64"
            ]
          },
          "metadata": {}
        },
        {
          "output_type": "stream",
          "name": "stdout",
          "text": [
            "\n",
            "============= total_of_special_requests =================\n"
          ]
        },
        {
          "output_type": "display_data",
          "data": {
            "text/plain": [
              "0    57956\n",
              "1    30441\n",
              "2    11964\n",
              "3     2232\n",
              "4      272\n",
              "5       29\n",
              "Name: total_of_special_requests, dtype: int64"
            ]
          },
          "metadata": {}
        },
        {
          "output_type": "stream",
          "name": "stdout",
          "text": [
            "\n",
            "============= reservation_status =================\n"
          ]
        },
        {
          "output_type": "display_data",
          "data": {
            "text/plain": [
              "Check-Out    62733\n",
              "Canceled     39158\n",
              "No-Show       1003\n",
              "Name: reservation_status, dtype: int64"
            ]
          },
          "metadata": {}
        },
        {
          "output_type": "stream",
          "name": "stdout",
          "text": [
            "\n",
            "============= reservation_status_date =================\n"
          ]
        },
        {
          "output_type": "display_data",
          "data": {
            "text/plain": [
              "2015-10-21    1426\n",
              "2015-07-06     803\n",
              "2015-01-01     763\n",
              "2016-01-18     592\n",
              "2016-11-25     552\n",
              "              ... \n",
              "2015-04-25       1\n",
              "2015-03-13       1\n",
              "2015-03-29       1\n",
              "2014-11-18       1\n",
              "2015-01-28       1\n",
              "Name: reservation_status_date, Length: 923, dtype: int64"
            ]
          },
          "metadata": {}
        },
        {
          "output_type": "stream",
          "name": "stdout",
          "text": [
            "\n"
          ]
        }
      ]
    },
    {
      "cell_type": "markdown",
      "metadata": {
        "id": "brmrfwBmR0r4"
      },
      "source": [
        "ditemukan missing value lain dengan bentuk \"Undefined\" pada beberapa kolom, yaitu\n",
        "\n",
        "meal, undefined = 1169\n",
        "\n",
        "market_segment, undefined = 2\n",
        "\n",
        "distribution_channel, undefined = 5\n",
        "\n",
        "\n"
      ]
    },
    {
      "cell_type": "markdown",
      "metadata": {
        "id": "FCPtqmRWSxdy"
      },
      "source": [
        "**Drop or impute teh missing values?**\n",
        "**First, we have to see what's the percentage of missing value in that column. If it contained a lot of missing value (let say >35%), then we can just drop that column. If not, then we can do some imputation.**"
      ]
    },
    {
      "cell_type": "code",
      "metadata": {
        "colab": {
          "base_uri": "https://localhost:8080/"
        },
        "id": "MKDa-RFIeqlL",
        "outputId": "95721bdb-0fcb-4f6d-acf0-3827884815b0"
      },
      "source": [
        "100 * len(data[data['meal']== 'Undefined']) / len(data)"
      ],
      "execution_count": 350,
      "outputs": [
        {
          "output_type": "execute_result",
          "data": {
            "text/plain": [
              "0.806655392928645"
            ]
          },
          "metadata": {},
          "execution_count": 350
        }
      ]
    },
    {
      "cell_type": "code",
      "metadata": {
        "colab": {
          "base_uri": "https://localhost:8080/"
        },
        "id": "_hFgoVnbfLB9",
        "outputId": "01b8ae6d-9ca9-45b3-bd8d-336dc15d0c46"
      },
      "source": [
        "100 * len(data[data['market_segment']== 'Undefined']) / len(data)"
      ],
      "execution_count": 351,
      "outputs": [
        {
          "output_type": "execute_result",
          "data": {
            "text/plain": [
              "0.0"
            ]
          },
          "metadata": {},
          "execution_count": 351
        }
      ]
    },
    {
      "cell_type": "code",
      "metadata": {
        "colab": {
          "base_uri": "https://localhost:8080/"
        },
        "id": "h98Fec4cfwHj",
        "outputId": "6ce605bd-9a2c-4dfa-ed9e-d0a443db7ae2"
      },
      "source": [
        "100 * len(data[data['distribution_channel']== 'Undefined']) / len(data)"
      ],
      "execution_count": 352,
      "outputs": [
        {
          "output_type": "execute_result",
          "data": {
            "text/plain": [
              "0.0"
            ]
          },
          "metadata": {},
          "execution_count": 352
        }
      ]
    },
    {
      "cell_type": "markdown",
      "metadata": {
        "id": "838ZeX7fnvUe"
      },
      "source": [
        "**tidak ada missing value yang komposisinya >35% dari seluruh record data.**"
      ]
    }
  ]
}
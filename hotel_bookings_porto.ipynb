{
  "nbformat": 4,
  "nbformat_minor": 0,
  "metadata": {
    "colab": {
      "name": "hotel_bookings_porto.ipynb",
      "provenance": [],
      "collapsed_sections": [],
      "authorship_tag": "ABX9TyP8raodPU5DRNq8JUKBWOHD"
    },
    "kernelspec": {
      "name": "python3",
      "display_name": "Python 3"
    },
    "language_info": {
      "name": "python"
    }
  },
  "cells": [
    {
      "cell_type": "markdown",
      "metadata": {
        "id": "J5vsp8thdVFc"
      },
      "source": [
        "                        \n",
        "\n",
        " **HOTEL BOOKING DEMAND**\n",
        "\n",
        "by: Nabila Indah Safira\n",
        "\n",
        "project: [Dibimbing.id](https://dibimbing.id/)\n",
        "\n",
        "---\n",
        "\n",
        "\n",
        "\n",
        "![NicePng_hotel-icon-png_2156383.png](data:image/png;base64,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)"
      ]
    },
    {
      "cell_type": "markdown",
      "metadata": {
        "id": "IDY1WdPCdQFd"
      },
      "source": [
        "Have you ever wondered when the best time of year to book a hotel room is? Or the optimal length of stay in order to get the best daily rate? What if you wanted to predict whether or not a hotel was likely to receive a disproportionately high number of special requests?\n",
        "\n",
        "This hotel booking dataset can help you explore those questions!"
      ]
    },
    {
      "cell_type": "code",
      "metadata": {
        "id": "Y8AcnVUSb_g3"
      },
      "source": [
        "import numpy as np\n",
        "import pandas as pd\n",
        "import seaborn as sns\n",
        "import matplotlib.pyplot as plt"
      ],
      "execution_count": null,
      "outputs": []
    },
    {
      "cell_type": "code",
      "metadata": {
        "colab": {
          "base_uri": "https://localhost:8080/"
        },
        "id": "TOOi71-3ddOp",
        "outputId": "5545e88e-90f8-43de-e9a1-ec33c55a3bd4"
      },
      "source": [
        "from google.colab import drive\n",
        "drive.mount('/content/gdrive')"
      ],
      "execution_count": null,
      "outputs": [
        {
          "output_type": "stream",
          "name": "stdout",
          "text": [
            "Drive already mounted at /content/gdrive; to attempt to forcibly remount, call drive.mount(\"/content/gdrive\", force_remount=True).\n"
          ]
        }
      ]
    },
    {
      "cell_type": "code",
      "metadata": {
        "colab": {
          "base_uri": "https://localhost:8080/"
        },
        "id": "Qzh1v1kKdjRH",
        "outputId": "9cbaaf03-4995-4fbf-ab7c-9b9566b8b218"
      },
      "source": [
        "%cd /content/gdrive/MyDrive/Colab Notebooks"
      ],
      "execution_count": null,
      "outputs": [
        {
          "output_type": "stream",
          "name": "stdout",
          "text": [
            "/content/gdrive/MyDrive/Colab Notebooks\n"
          ]
        }
      ]
    },
    {
      "cell_type": "code",
      "metadata": {
        "colab": {
          "base_uri": "https://localhost:8080/",
          "height": 305
        },
        "id": "kNU7Di5Xdl1d",
        "outputId": "2111be00-0e65-4ace-aff3-3434b8114591"
      },
      "source": [
        "data = pd.read_csv('hotel_bookings.csv')\n",
        "data.head()"
      ],
      "execution_count": null,
      "outputs": [
        {
          "output_type": "execute_result",
          "data": {
            "text/html": [
              "<div>\n",
              "<style scoped>\n",
              "    .dataframe tbody tr th:only-of-type {\n",
              "        vertical-align: middle;\n",
              "    }\n",
              "\n",
              "    .dataframe tbody tr th {\n",
              "        vertical-align: top;\n",
              "    }\n",
              "\n",
              "    .dataframe thead th {\n",
              "        text-align: right;\n",
              "    }\n",
              "</style>\n",
              "<table border=\"1\" class=\"dataframe\">\n",
              "  <thead>\n",
              "    <tr style=\"text-align: right;\">\n",
              "      <th></th>\n",
              "      <th>hotel</th>\n",
              "      <th>is_canceled</th>\n",
              "      <th>lead_time</th>\n",
              "      <th>arrival_date_year</th>\n",
              "      <th>arrival_date_month</th>\n",
              "      <th>arrival_date_week_number</th>\n",
              "      <th>arrival_date_day_of_month</th>\n",
              "      <th>stays_in_weekend_nights</th>\n",
              "      <th>stays_in_week_nights</th>\n",
              "      <th>adults</th>\n",
              "      <th>children</th>\n",
              "      <th>babies</th>\n",
              "      <th>meal</th>\n",
              "      <th>country</th>\n",
              "      <th>market_segment</th>\n",
              "      <th>distribution_channel</th>\n",
              "      <th>is_repeated_guest</th>\n",
              "      <th>previous_cancellations</th>\n",
              "      <th>previous_bookings_not_canceled</th>\n",
              "      <th>reserved_room_type</th>\n",
              "      <th>assigned_room_type</th>\n",
              "      <th>booking_changes</th>\n",
              "      <th>deposit_type</th>\n",
              "      <th>agent</th>\n",
              "      <th>company</th>\n",
              "      <th>days_in_waiting_list</th>\n",
              "      <th>customer_type</th>\n",
              "      <th>adr</th>\n",
              "      <th>required_car_parking_spaces</th>\n",
              "      <th>total_of_special_requests</th>\n",
              "      <th>reservation_status</th>\n",
              "      <th>reservation_status_date</th>\n",
              "    </tr>\n",
              "  </thead>\n",
              "  <tbody>\n",
              "    <tr>\n",
              "      <th>0</th>\n",
              "      <td>Resort Hotel</td>\n",
              "      <td>0</td>\n",
              "      <td>342</td>\n",
              "      <td>2015</td>\n",
              "      <td>July</td>\n",
              "      <td>27</td>\n",
              "      <td>1</td>\n",
              "      <td>0</td>\n",
              "      <td>0</td>\n",
              "      <td>2</td>\n",
              "      <td>0.0</td>\n",
              "      <td>0</td>\n",
              "      <td>BB</td>\n",
              "      <td>PRT</td>\n",
              "      <td>Direct</td>\n",
              "      <td>Direct</td>\n",
              "      <td>0</td>\n",
              "      <td>0</td>\n",
              "      <td>0</td>\n",
              "      <td>C</td>\n",
              "      <td>C</td>\n",
              "      <td>3</td>\n",
              "      <td>No Deposit</td>\n",
              "      <td>NaN</td>\n",
              "      <td>NaN</td>\n",
              "      <td>0</td>\n",
              "      <td>Transient</td>\n",
              "      <td>0.0</td>\n",
              "      <td>0</td>\n",
              "      <td>0</td>\n",
              "      <td>Check-Out</td>\n",
              "      <td>2015-07-01</td>\n",
              "    </tr>\n",
              "    <tr>\n",
              "      <th>1</th>\n",
              "      <td>Resort Hotel</td>\n",
              "      <td>0</td>\n",
              "      <td>737</td>\n",
              "      <td>2015</td>\n",
              "      <td>July</td>\n",
              "      <td>27</td>\n",
              "      <td>1</td>\n",
              "      <td>0</td>\n",
              "      <td>0</td>\n",
              "      <td>2</td>\n",
              "      <td>0.0</td>\n",
              "      <td>0</td>\n",
              "      <td>BB</td>\n",
              "      <td>PRT</td>\n",
              "      <td>Direct</td>\n",
              "      <td>Direct</td>\n",
              "      <td>0</td>\n",
              "      <td>0</td>\n",
              "      <td>0</td>\n",
              "      <td>C</td>\n",
              "      <td>C</td>\n",
              "      <td>4</td>\n",
              "      <td>No Deposit</td>\n",
              "      <td>NaN</td>\n",
              "      <td>NaN</td>\n",
              "      <td>0</td>\n",
              "      <td>Transient</td>\n",
              "      <td>0.0</td>\n",
              "      <td>0</td>\n",
              "      <td>0</td>\n",
              "      <td>Check-Out</td>\n",
              "      <td>2015-07-01</td>\n",
              "    </tr>\n",
              "    <tr>\n",
              "      <th>2</th>\n",
              "      <td>Resort Hotel</td>\n",
              "      <td>0</td>\n",
              "      <td>7</td>\n",
              "      <td>2015</td>\n",
              "      <td>July</td>\n",
              "      <td>27</td>\n",
              "      <td>1</td>\n",
              "      <td>0</td>\n",
              "      <td>1</td>\n",
              "      <td>1</td>\n",
              "      <td>0.0</td>\n",
              "      <td>0</td>\n",
              "      <td>BB</td>\n",
              "      <td>GBR</td>\n",
              "      <td>Direct</td>\n",
              "      <td>Direct</td>\n",
              "      <td>0</td>\n",
              "      <td>0</td>\n",
              "      <td>0</td>\n",
              "      <td>A</td>\n",
              "      <td>C</td>\n",
              "      <td>0</td>\n",
              "      <td>No Deposit</td>\n",
              "      <td>NaN</td>\n",
              "      <td>NaN</td>\n",
              "      <td>0</td>\n",
              "      <td>Transient</td>\n",
              "      <td>75.0</td>\n",
              "      <td>0</td>\n",
              "      <td>0</td>\n",
              "      <td>Check-Out</td>\n",
              "      <td>2015-07-02</td>\n",
              "    </tr>\n",
              "    <tr>\n",
              "      <th>3</th>\n",
              "      <td>Resort Hotel</td>\n",
              "      <td>0</td>\n",
              "      <td>13</td>\n",
              "      <td>2015</td>\n",
              "      <td>July</td>\n",
              "      <td>27</td>\n",
              "      <td>1</td>\n",
              "      <td>0</td>\n",
              "      <td>1</td>\n",
              "      <td>1</td>\n",
              "      <td>0.0</td>\n",
              "      <td>0</td>\n",
              "      <td>BB</td>\n",
              "      <td>GBR</td>\n",
              "      <td>Corporate</td>\n",
              "      <td>Corporate</td>\n",
              "      <td>0</td>\n",
              "      <td>0</td>\n",
              "      <td>0</td>\n",
              "      <td>A</td>\n",
              "      <td>A</td>\n",
              "      <td>0</td>\n",
              "      <td>No Deposit</td>\n",
              "      <td>304.0</td>\n",
              "      <td>NaN</td>\n",
              "      <td>0</td>\n",
              "      <td>Transient</td>\n",
              "      <td>75.0</td>\n",
              "      <td>0</td>\n",
              "      <td>0</td>\n",
              "      <td>Check-Out</td>\n",
              "      <td>2015-07-02</td>\n",
              "    </tr>\n",
              "    <tr>\n",
              "      <th>4</th>\n",
              "      <td>Resort Hotel</td>\n",
              "      <td>0</td>\n",
              "      <td>14</td>\n",
              "      <td>2015</td>\n",
              "      <td>July</td>\n",
              "      <td>27</td>\n",
              "      <td>1</td>\n",
              "      <td>0</td>\n",
              "      <td>2</td>\n",
              "      <td>2</td>\n",
              "      <td>0.0</td>\n",
              "      <td>0</td>\n",
              "      <td>BB</td>\n",
              "      <td>GBR</td>\n",
              "      <td>Online TA</td>\n",
              "      <td>TA/TO</td>\n",
              "      <td>0</td>\n",
              "      <td>0</td>\n",
              "      <td>0</td>\n",
              "      <td>A</td>\n",
              "      <td>A</td>\n",
              "      <td>0</td>\n",
              "      <td>No Deposit</td>\n",
              "      <td>240.0</td>\n",
              "      <td>NaN</td>\n",
              "      <td>0</td>\n",
              "      <td>Transient</td>\n",
              "      <td>98.0</td>\n",
              "      <td>0</td>\n",
              "      <td>1</td>\n",
              "      <td>Check-Out</td>\n",
              "      <td>2015-07-03</td>\n",
              "    </tr>\n",
              "  </tbody>\n",
              "</table>\n",
              "</div>"
            ],
            "text/plain": [
              "          hotel  is_canceled  ...  reservation_status  reservation_status_date\n",
              "0  Resort Hotel            0  ...           Check-Out               2015-07-01\n",
              "1  Resort Hotel            0  ...           Check-Out               2015-07-01\n",
              "2  Resort Hotel            0  ...           Check-Out               2015-07-02\n",
              "3  Resort Hotel            0  ...           Check-Out               2015-07-02\n",
              "4  Resort Hotel            0  ...           Check-Out               2015-07-03\n",
              "\n",
              "[5 rows x 32 columns]"
            ]
          },
          "metadata": {},
          "execution_count": 336
        }
      ]
    },
    {
      "cell_type": "code",
      "metadata": {
        "colab": {
          "base_uri": "https://localhost:8080/"
        },
        "id": "P278dJm0fdqv",
        "outputId": "02765af0-5687-4e64-93ba-673b28529272"
      },
      "source": [
        "data.info()"
      ],
      "execution_count": null,
      "outputs": [
        {
          "output_type": "stream",
          "name": "stdout",
          "text": [
            "<class 'pandas.core.frame.DataFrame'>\n",
            "RangeIndex: 119390 entries, 0 to 119389\n",
            "Data columns (total 32 columns):\n",
            " #   Column                          Non-Null Count   Dtype  \n",
            "---  ------                          --------------   -----  \n",
            " 0   hotel                           119390 non-null  object \n",
            " 1   is_canceled                     119390 non-null  int64  \n",
            " 2   lead_time                       119390 non-null  int64  \n",
            " 3   arrival_date_year               119390 non-null  int64  \n",
            " 4   arrival_date_month              119390 non-null  object \n",
            " 5   arrival_date_week_number        119390 non-null  int64  \n",
            " 6   arrival_date_day_of_month       119390 non-null  int64  \n",
            " 7   stays_in_weekend_nights         119390 non-null  int64  \n",
            " 8   stays_in_week_nights            119390 non-null  int64  \n",
            " 9   adults                          119390 non-null  int64  \n",
            " 10  children                        119386 non-null  float64\n",
            " 11  babies                          119390 non-null  int64  \n",
            " 12  meal                            119390 non-null  object \n",
            " 13  country                         118902 non-null  object \n",
            " 14  market_segment                  119390 non-null  object \n",
            " 15  distribution_channel            119390 non-null  object \n",
            " 16  is_repeated_guest               119390 non-null  int64  \n",
            " 17  previous_cancellations          119390 non-null  int64  \n",
            " 18  previous_bookings_not_canceled  119390 non-null  int64  \n",
            " 19  reserved_room_type              119390 non-null  object \n",
            " 20  assigned_room_type              119390 non-null  object \n",
            " 21  booking_changes                 119390 non-null  int64  \n",
            " 22  deposit_type                    119390 non-null  object \n",
            " 23  agent                           103050 non-null  float64\n",
            " 24  company                         6797 non-null    float64\n",
            " 25  days_in_waiting_list            119390 non-null  int64  \n",
            " 26  customer_type                   119390 non-null  object \n",
            " 27  adr                             119390 non-null  float64\n",
            " 28  required_car_parking_spaces     119390 non-null  int64  \n",
            " 29  total_of_special_requests       119390 non-null  int64  \n",
            " 30  reservation_status              119390 non-null  object \n",
            " 31  reservation_status_date         119390 non-null  object \n",
            "dtypes: float64(4), int64(16), object(12)\n",
            "memory usage: 29.1+ MB\n"
          ]
        }
      ]
    },
    {
      "cell_type": "markdown",
      "metadata": {
        "id": "5CnbpNnffo_e"
      },
      "source": [
        "119.390 record data in total. column that have missing value : children, country, agent, & company"
      ]
    },
    {
      "cell_type": "code",
      "metadata": {
        "colab": {
          "base_uri": "https://localhost:8080/"
        },
        "id": "EVGgp_KYIbS5",
        "outputId": "118ce8e1-0cd8-476c-ce46-23fe017cd93d"
      },
      "source": [
        "data.isna().sum()"
      ],
      "execution_count": null,
      "outputs": [
        {
          "output_type": "execute_result",
          "data": {
            "text/plain": [
              "hotel                                  0\n",
              "is_canceled                            0\n",
              "lead_time                              0\n",
              "arrival_date_year                      0\n",
              "arrival_date_month                     0\n",
              "arrival_date_week_number               0\n",
              "arrival_date_day_of_month              0\n",
              "stays_in_weekend_nights                0\n",
              "stays_in_week_nights                   0\n",
              "adults                                 0\n",
              "children                               4\n",
              "babies                                 0\n",
              "meal                                   0\n",
              "country                              488\n",
              "market_segment                         0\n",
              "distribution_channel                   0\n",
              "is_repeated_guest                      0\n",
              "previous_cancellations                 0\n",
              "previous_bookings_not_canceled         0\n",
              "reserved_room_type                     0\n",
              "assigned_room_type                     0\n",
              "booking_changes                        0\n",
              "deposit_type                           0\n",
              "agent                              16340\n",
              "company                           112593\n",
              "days_in_waiting_list                   0\n",
              "customer_type                          0\n",
              "adr                                    0\n",
              "required_car_parking_spaces            0\n",
              "total_of_special_requests              0\n",
              "reservation_status                     0\n",
              "reservation_status_date                0\n",
              "dtype: int64"
            ]
          },
          "metadata": {},
          "execution_count": 338
        }
      ]
    },
    {
      "cell_type": "code",
      "metadata": {
        "colab": {
          "base_uri": "https://localhost:8080/"
        },
        "id": "6uFEega3kM3W",
        "outputId": "360f6226-b640-4efe-c2de-1094e6c2a426"
      },
      "source": [
        "data.dropna().info()"
      ],
      "execution_count": null,
      "outputs": [
        {
          "output_type": "stream",
          "name": "stdout",
          "text": [
            "<class 'pandas.core.frame.DataFrame'>\n",
            "Int64Index: 217 entries, 2392 to 116451\n",
            "Data columns (total 32 columns):\n",
            " #   Column                          Non-Null Count  Dtype  \n",
            "---  ------                          --------------  -----  \n",
            " 0   hotel                           217 non-null    object \n",
            " 1   is_canceled                     217 non-null    int64  \n",
            " 2   lead_time                       217 non-null    int64  \n",
            " 3   arrival_date_year               217 non-null    int64  \n",
            " 4   arrival_date_month              217 non-null    object \n",
            " 5   arrival_date_week_number        217 non-null    int64  \n",
            " 6   arrival_date_day_of_month       217 non-null    int64  \n",
            " 7   stays_in_weekend_nights         217 non-null    int64  \n",
            " 8   stays_in_week_nights            217 non-null    int64  \n",
            " 9   adults                          217 non-null    int64  \n",
            " 10  children                        217 non-null    float64\n",
            " 11  babies                          217 non-null    int64  \n",
            " 12  meal                            217 non-null    object \n",
            " 13  country                         217 non-null    object \n",
            " 14  market_segment                  217 non-null    object \n",
            " 15  distribution_channel            217 non-null    object \n",
            " 16  is_repeated_guest               217 non-null    int64  \n",
            " 17  previous_cancellations          217 non-null    int64  \n",
            " 18  previous_bookings_not_canceled  217 non-null    int64  \n",
            " 19  reserved_room_type              217 non-null    object \n",
            " 20  assigned_room_type              217 non-null    object \n",
            " 21  booking_changes                 217 non-null    int64  \n",
            " 22  deposit_type                    217 non-null    object \n",
            " 23  agent                           217 non-null    float64\n",
            " 24  company                         217 non-null    float64\n",
            " 25  days_in_waiting_list            217 non-null    int64  \n",
            " 26  customer_type                   217 non-null    object \n",
            " 27  adr                             217 non-null    float64\n",
            " 28  required_car_parking_spaces     217 non-null    int64  \n",
            " 29  total_of_special_requests       217 non-null    int64  \n",
            " 30  reservation_status              217 non-null    object \n",
            " 31  reservation_status_date         217 non-null    object \n",
            "dtypes: float64(4), int64(16), object(12)\n",
            "memory usage: 55.9+ KB\n"
          ]
        }
      ]
    },
    {
      "cell_type": "markdown",
      "metadata": {
        "id": "83yzu4dypO1f"
      },
      "source": [
        "kalau data dengan missing value NaN didrop, total data menjadi 217 saja dan mungkin banyak record penting yang hilang,\n",
        "\n",
        "sehingga, tindakan yang dilakukan adalah menghapus kolom dengan missing value NaN terbanyak (>35%)"
      ]
    },
    {
      "cell_type": "code",
      "metadata": {
        "colab": {
          "base_uri": "https://localhost:8080/"
        },
        "id": "W1CBXu5rmJrU",
        "outputId": "58f3e908-bca9-47d8-dff4-f3ce385dd33b"
      },
      "source": [
        "data.info()"
      ],
      "execution_count": null,
      "outputs": [
        {
          "output_type": "stream",
          "name": "stdout",
          "text": [
            "<class 'pandas.core.frame.DataFrame'>\n",
            "RangeIndex: 119390 entries, 0 to 119389\n",
            "Data columns (total 32 columns):\n",
            " #   Column                          Non-Null Count   Dtype  \n",
            "---  ------                          --------------   -----  \n",
            " 0   hotel                           119390 non-null  object \n",
            " 1   is_canceled                     119390 non-null  int64  \n",
            " 2   lead_time                       119390 non-null  int64  \n",
            " 3   arrival_date_year               119390 non-null  int64  \n",
            " 4   arrival_date_month              119390 non-null  object \n",
            " 5   arrival_date_week_number        119390 non-null  int64  \n",
            " 6   arrival_date_day_of_month       119390 non-null  int64  \n",
            " 7   stays_in_weekend_nights         119390 non-null  int64  \n",
            " 8   stays_in_week_nights            119390 non-null  int64  \n",
            " 9   adults                          119390 non-null  int64  \n",
            " 10  children                        119386 non-null  float64\n",
            " 11  babies                          119390 non-null  int64  \n",
            " 12  meal                            119390 non-null  object \n",
            " 13  country                         118902 non-null  object \n",
            " 14  market_segment                  119390 non-null  object \n",
            " 15  distribution_channel            119390 non-null  object \n",
            " 16  is_repeated_guest               119390 non-null  int64  \n",
            " 17  previous_cancellations          119390 non-null  int64  \n",
            " 18  previous_bookings_not_canceled  119390 non-null  int64  \n",
            " 19  reserved_room_type              119390 non-null  object \n",
            " 20  assigned_room_type              119390 non-null  object \n",
            " 21  booking_changes                 119390 non-null  int64  \n",
            " 22  deposit_type                    119390 non-null  object \n",
            " 23  agent                           103050 non-null  float64\n",
            " 24  company                         6797 non-null    float64\n",
            " 25  days_in_waiting_list            119390 non-null  int64  \n",
            " 26  customer_type                   119390 non-null  object \n",
            " 27  adr                             119390 non-null  float64\n",
            " 28  required_car_parking_spaces     119390 non-null  int64  \n",
            " 29  total_of_special_requests       119390 non-null  int64  \n",
            " 30  reservation_status              119390 non-null  object \n",
            " 31  reservation_status_date         119390 non-null  object \n",
            "dtypes: float64(4), int64(16), object(12)\n",
            "memory usage: 29.1+ MB\n"
          ]
        }
      ]
    },
    {
      "cell_type": "code",
      "metadata": {
        "colab": {
          "base_uri": "https://localhost:8080/"
        },
        "id": "iK5FcJdjlakg",
        "outputId": "4ff5b135-dff5-4e81-cfe0-d86e81eebbba"
      },
      "source": [
        "#NaN country\n",
        "100 * 488 / len(data)"
      ],
      "execution_count": null,
      "outputs": [
        {
          "output_type": "execute_result",
          "data": {
            "text/plain": [
              "0.40874445095904177"
            ]
          },
          "metadata": {},
          "execution_count": 341
        }
      ]
    },
    {
      "cell_type": "code",
      "metadata": {
        "colab": {
          "base_uri": "https://localhost:8080/"
        },
        "id": "wuxGPdbSloWs",
        "outputId": "9fdd900f-9adc-4628-9f4c-1b357481bd7f"
      },
      "source": [
        "#NaN agent\n",
        "100 * 16340 / len(data)"
      ],
      "execution_count": null,
      "outputs": [
        {
          "output_type": "execute_result",
          "data": {
            "text/plain": [
              "13.686238378423653"
            ]
          },
          "metadata": {},
          "execution_count": 342
        }
      ]
    },
    {
      "cell_type": "code",
      "metadata": {
        "colab": {
          "base_uri": "https://localhost:8080/"
        },
        "id": "jjQAEKROlrG8",
        "outputId": "68b9ccf6-740d-4cfe-a7cd-0831672be067"
      },
      "source": [
        "#NaN company\n",
        "100 * 112593 / len(data)"
      ],
      "execution_count": null,
      "outputs": [
        {
          "output_type": "execute_result",
          "data": {
            "text/plain": [
              "94.30689337465449"
            ]
          },
          "metadata": {},
          "execution_count": 343
        }
      ]
    },
    {
      "cell_type": "markdown",
      "metadata": {
        "id": "nFAI1XA1peIx"
      },
      "source": [
        "**kolom company memiliki jumlah missing value jauh diatas 35% dari total record data (94.3%), sehingga akan di drop karena tidak ada informasi yang dapat diambil**"
      ]
    },
    {
      "cell_type": "code",
      "metadata": {
        "id": "rJ3jBhi4pVCt"
      },
      "source": [
        "data = data.drop(columns=['company'])"
      ],
      "execution_count": null,
      "outputs": []
    },
    {
      "cell_type": "code",
      "metadata": {
        "colab": {
          "base_uri": "https://localhost:8080/",
          "height": 305
        },
        "id": "8Tgyn1VpquOO",
        "outputId": "4967861f-986c-4da9-8cec-ca8d6a179132"
      },
      "source": [
        "data.head()"
      ],
      "execution_count": null,
      "outputs": [
        {
          "output_type": "execute_result",
          "data": {
            "text/html": [
              "<div>\n",
              "<style scoped>\n",
              "    .dataframe tbody tr th:only-of-type {\n",
              "        vertical-align: middle;\n",
              "    }\n",
              "\n",
              "    .dataframe tbody tr th {\n",
              "        vertical-align: top;\n",
              "    }\n",
              "\n",
              "    .dataframe thead th {\n",
              "        text-align: right;\n",
              "    }\n",
              "</style>\n",
              "<table border=\"1\" class=\"dataframe\">\n",
              "  <thead>\n",
              "    <tr style=\"text-align: right;\">\n",
              "      <th></th>\n",
              "      <th>hotel</th>\n",
              "      <th>is_canceled</th>\n",
              "      <th>lead_time</th>\n",
              "      <th>arrival_date_year</th>\n",
              "      <th>arrival_date_month</th>\n",
              "      <th>arrival_date_week_number</th>\n",
              "      <th>arrival_date_day_of_month</th>\n",
              "      <th>stays_in_weekend_nights</th>\n",
              "      <th>stays_in_week_nights</th>\n",
              "      <th>adults</th>\n",
              "      <th>children</th>\n",
              "      <th>babies</th>\n",
              "      <th>meal</th>\n",
              "      <th>country</th>\n",
              "      <th>market_segment</th>\n",
              "      <th>distribution_channel</th>\n",
              "      <th>is_repeated_guest</th>\n",
              "      <th>previous_cancellations</th>\n",
              "      <th>previous_bookings_not_canceled</th>\n",
              "      <th>reserved_room_type</th>\n",
              "      <th>assigned_room_type</th>\n",
              "      <th>booking_changes</th>\n",
              "      <th>deposit_type</th>\n",
              "      <th>agent</th>\n",
              "      <th>days_in_waiting_list</th>\n",
              "      <th>customer_type</th>\n",
              "      <th>adr</th>\n",
              "      <th>required_car_parking_spaces</th>\n",
              "      <th>total_of_special_requests</th>\n",
              "      <th>reservation_status</th>\n",
              "      <th>reservation_status_date</th>\n",
              "    </tr>\n",
              "  </thead>\n",
              "  <tbody>\n",
              "    <tr>\n",
              "      <th>0</th>\n",
              "      <td>Resort Hotel</td>\n",
              "      <td>0</td>\n",
              "      <td>342</td>\n",
              "      <td>2015</td>\n",
              "      <td>July</td>\n",
              "      <td>27</td>\n",
              "      <td>1</td>\n",
              "      <td>0</td>\n",
              "      <td>0</td>\n",
              "      <td>2</td>\n",
              "      <td>0.0</td>\n",
              "      <td>0</td>\n",
              "      <td>BB</td>\n",
              "      <td>PRT</td>\n",
              "      <td>Direct</td>\n",
              "      <td>Direct</td>\n",
              "      <td>0</td>\n",
              "      <td>0</td>\n",
              "      <td>0</td>\n",
              "      <td>C</td>\n",
              "      <td>C</td>\n",
              "      <td>3</td>\n",
              "      <td>No Deposit</td>\n",
              "      <td>NaN</td>\n",
              "      <td>0</td>\n",
              "      <td>Transient</td>\n",
              "      <td>0.0</td>\n",
              "      <td>0</td>\n",
              "      <td>0</td>\n",
              "      <td>Check-Out</td>\n",
              "      <td>2015-07-01</td>\n",
              "    </tr>\n",
              "    <tr>\n",
              "      <th>1</th>\n",
              "      <td>Resort Hotel</td>\n",
              "      <td>0</td>\n",
              "      <td>737</td>\n",
              "      <td>2015</td>\n",
              "      <td>July</td>\n",
              "      <td>27</td>\n",
              "      <td>1</td>\n",
              "      <td>0</td>\n",
              "      <td>0</td>\n",
              "      <td>2</td>\n",
              "      <td>0.0</td>\n",
              "      <td>0</td>\n",
              "      <td>BB</td>\n",
              "      <td>PRT</td>\n",
              "      <td>Direct</td>\n",
              "      <td>Direct</td>\n",
              "      <td>0</td>\n",
              "      <td>0</td>\n",
              "      <td>0</td>\n",
              "      <td>C</td>\n",
              "      <td>C</td>\n",
              "      <td>4</td>\n",
              "      <td>No Deposit</td>\n",
              "      <td>NaN</td>\n",
              "      <td>0</td>\n",
              "      <td>Transient</td>\n",
              "      <td>0.0</td>\n",
              "      <td>0</td>\n",
              "      <td>0</td>\n",
              "      <td>Check-Out</td>\n",
              "      <td>2015-07-01</td>\n",
              "    </tr>\n",
              "    <tr>\n",
              "      <th>2</th>\n",
              "      <td>Resort Hotel</td>\n",
              "      <td>0</td>\n",
              "      <td>7</td>\n",
              "      <td>2015</td>\n",
              "      <td>July</td>\n",
              "      <td>27</td>\n",
              "      <td>1</td>\n",
              "      <td>0</td>\n",
              "      <td>1</td>\n",
              "      <td>1</td>\n",
              "      <td>0.0</td>\n",
              "      <td>0</td>\n",
              "      <td>BB</td>\n",
              "      <td>GBR</td>\n",
              "      <td>Direct</td>\n",
              "      <td>Direct</td>\n",
              "      <td>0</td>\n",
              "      <td>0</td>\n",
              "      <td>0</td>\n",
              "      <td>A</td>\n",
              "      <td>C</td>\n",
              "      <td>0</td>\n",
              "      <td>No Deposit</td>\n",
              "      <td>NaN</td>\n",
              "      <td>0</td>\n",
              "      <td>Transient</td>\n",
              "      <td>75.0</td>\n",
              "      <td>0</td>\n",
              "      <td>0</td>\n",
              "      <td>Check-Out</td>\n",
              "      <td>2015-07-02</td>\n",
              "    </tr>\n",
              "    <tr>\n",
              "      <th>3</th>\n",
              "      <td>Resort Hotel</td>\n",
              "      <td>0</td>\n",
              "      <td>13</td>\n",
              "      <td>2015</td>\n",
              "      <td>July</td>\n",
              "      <td>27</td>\n",
              "      <td>1</td>\n",
              "      <td>0</td>\n",
              "      <td>1</td>\n",
              "      <td>1</td>\n",
              "      <td>0.0</td>\n",
              "      <td>0</td>\n",
              "      <td>BB</td>\n",
              "      <td>GBR</td>\n",
              "      <td>Corporate</td>\n",
              "      <td>Corporate</td>\n",
              "      <td>0</td>\n",
              "      <td>0</td>\n",
              "      <td>0</td>\n",
              "      <td>A</td>\n",
              "      <td>A</td>\n",
              "      <td>0</td>\n",
              "      <td>No Deposit</td>\n",
              "      <td>304.0</td>\n",
              "      <td>0</td>\n",
              "      <td>Transient</td>\n",
              "      <td>75.0</td>\n",
              "      <td>0</td>\n",
              "      <td>0</td>\n",
              "      <td>Check-Out</td>\n",
              "      <td>2015-07-02</td>\n",
              "    </tr>\n",
              "    <tr>\n",
              "      <th>4</th>\n",
              "      <td>Resort Hotel</td>\n",
              "      <td>0</td>\n",
              "      <td>14</td>\n",
              "      <td>2015</td>\n",
              "      <td>July</td>\n",
              "      <td>27</td>\n",
              "      <td>1</td>\n",
              "      <td>0</td>\n",
              "      <td>2</td>\n",
              "      <td>2</td>\n",
              "      <td>0.0</td>\n",
              "      <td>0</td>\n",
              "      <td>BB</td>\n",
              "      <td>GBR</td>\n",
              "      <td>Online TA</td>\n",
              "      <td>TA/TO</td>\n",
              "      <td>0</td>\n",
              "      <td>0</td>\n",
              "      <td>0</td>\n",
              "      <td>A</td>\n",
              "      <td>A</td>\n",
              "      <td>0</td>\n",
              "      <td>No Deposit</td>\n",
              "      <td>240.0</td>\n",
              "      <td>0</td>\n",
              "      <td>Transient</td>\n",
              "      <td>98.0</td>\n",
              "      <td>0</td>\n",
              "      <td>1</td>\n",
              "      <td>Check-Out</td>\n",
              "      <td>2015-07-03</td>\n",
              "    </tr>\n",
              "  </tbody>\n",
              "</table>\n",
              "</div>"
            ],
            "text/plain": [
              "          hotel  is_canceled  ...  reservation_status  reservation_status_date\n",
              "0  Resort Hotel            0  ...           Check-Out               2015-07-01\n",
              "1  Resort Hotel            0  ...           Check-Out               2015-07-01\n",
              "2  Resort Hotel            0  ...           Check-Out               2015-07-02\n",
              "3  Resort Hotel            0  ...           Check-Out               2015-07-02\n",
              "4  Resort Hotel            0  ...           Check-Out               2015-07-03\n",
              "\n",
              "[5 rows x 31 columns]"
            ]
          },
          "metadata": {},
          "execution_count": 345
        }
      ]
    },
    {
      "cell_type": "markdown",
      "metadata": {
        "id": "iWcDPaXou2-p"
      },
      "source": [
        "**Selanjutnya, akan kita hapus record data yang mengandung missing values NaN**"
      ]
    },
    {
      "cell_type": "code",
      "metadata": {
        "id": "-MHc5m1zu0P7"
      },
      "source": [
        "data = data.dropna()"
      ],
      "execution_count": null,
      "outputs": []
    },
    {
      "cell_type": "code",
      "metadata": {
        "colab": {
          "base_uri": "https://localhost:8080/"
        },
        "id": "bIlnenvAu0ui",
        "outputId": "473cc248-3a93-4445-9467-2e6f43138a90"
      },
      "source": [
        "data.info()"
      ],
      "execution_count": null,
      "outputs": [
        {
          "output_type": "stream",
          "name": "stdout",
          "text": [
            "<class 'pandas.core.frame.DataFrame'>\n",
            "Int64Index: 102894 entries, 3 to 119389\n",
            "Data columns (total 31 columns):\n",
            " #   Column                          Non-Null Count   Dtype  \n",
            "---  ------                          --------------   -----  \n",
            " 0   hotel                           102894 non-null  object \n",
            " 1   is_canceled                     102894 non-null  int64  \n",
            " 2   lead_time                       102894 non-null  int64  \n",
            " 3   arrival_date_year               102894 non-null  int64  \n",
            " 4   arrival_date_month              102894 non-null  object \n",
            " 5   arrival_date_week_number        102894 non-null  int64  \n",
            " 6   arrival_date_day_of_month       102894 non-null  int64  \n",
            " 7   stays_in_weekend_nights         102894 non-null  int64  \n",
            " 8   stays_in_week_nights            102894 non-null  int64  \n",
            " 9   adults                          102894 non-null  int64  \n",
            " 10  children                        102894 non-null  float64\n",
            " 11  babies                          102894 non-null  int64  \n",
            " 12  meal                            102894 non-null  object \n",
            " 13  country                         102894 non-null  object \n",
            " 14  market_segment                  102894 non-null  object \n",
            " 15  distribution_channel            102894 non-null  object \n",
            " 16  is_repeated_guest               102894 non-null  int64  \n",
            " 17  previous_cancellations          102894 non-null  int64  \n",
            " 18  previous_bookings_not_canceled  102894 non-null  int64  \n",
            " 19  reserved_room_type              102894 non-null  object \n",
            " 20  assigned_room_type              102894 non-null  object \n",
            " 21  booking_changes                 102894 non-null  int64  \n",
            " 22  deposit_type                    102894 non-null  object \n",
            " 23  agent                           102894 non-null  float64\n",
            " 24  days_in_waiting_list            102894 non-null  int64  \n",
            " 25  customer_type                   102894 non-null  object \n",
            " 26  adr                             102894 non-null  float64\n",
            " 27  required_car_parking_spaces     102894 non-null  int64  \n",
            " 28  total_of_special_requests       102894 non-null  int64  \n",
            " 29  reservation_status              102894 non-null  object \n",
            " 30  reservation_status_date         102894 non-null  object \n",
            "dtypes: float64(3), int64(16), object(12)\n",
            "memory usage: 25.1+ MB\n"
          ]
        }
      ]
    },
    {
      "cell_type": "code",
      "metadata": {
        "colab": {
          "base_uri": "https://localhost:8080/"
        },
        "id": "28HGYIZGtamx",
        "outputId": "52bbecd7-fcbe-4b88-d2a0-52f4cc421d5c"
      },
      "source": [
        "data.isna().sum()"
      ],
      "execution_count": null,
      "outputs": [
        {
          "output_type": "execute_result",
          "data": {
            "text/plain": [
              "hotel                             0\n",
              "is_canceled                       0\n",
              "lead_time                         0\n",
              "arrival_date_year                 0\n",
              "arrival_date_month                0\n",
              "arrival_date_week_number          0\n",
              "arrival_date_day_of_month         0\n",
              "stays_in_weekend_nights           0\n",
              "stays_in_week_nights              0\n",
              "adults                            0\n",
              "children                          0\n",
              "babies                            0\n",
              "meal                              0\n",
              "country                           0\n",
              "market_segment                    0\n",
              "distribution_channel              0\n",
              "is_repeated_guest                 0\n",
              "previous_cancellations            0\n",
              "previous_bookings_not_canceled    0\n",
              "reserved_room_type                0\n",
              "assigned_room_type                0\n",
              "booking_changes                   0\n",
              "deposit_type                      0\n",
              "agent                             0\n",
              "days_in_waiting_list              0\n",
              "customer_type                     0\n",
              "adr                               0\n",
              "required_car_parking_spaces       0\n",
              "total_of_special_requests         0\n",
              "reservation_status                0\n",
              "reservation_status_date           0\n",
              "dtype: int64"
            ]
          },
          "metadata": {},
          "execution_count": 348
        }
      ]
    },
    {
      "cell_type": "markdown",
      "metadata": {
        "id": "fBaQ1kd5vFtx"
      },
      "source": [
        "**selain NaN, ternyata ditemukan missing value lain dengan bentuk \"Undefined\"**"
      ]
    },
    {
      "cell_type": "code",
      "metadata": {
        "colab": {
          "base_uri": "https://localhost:8080/",
          "height": 1000
        },
        "id": "TBwQMXwNRJ4y",
        "outputId": "76e116c3-a645-443e-cb6f-8cf609edd9e7"
      },
      "source": [
        "for column in data.columns:\n",
        "    print(f\"============= {column} =================\")\n",
        "    display(data[column].value_counts())\n",
        "    print()"
      ],
      "execution_count": null,
      "outputs": [
        {
          "output_type": "stream",
          "name": "stdout",
          "text": [
            "============= hotel =================\n"
          ]
        },
        {
          "output_type": "display_data",
          "data": {
            "text/plain": [
              "City Hotel      71181\n",
              "Resort Hotel    31713\n",
              "Name: hotel, dtype: int64"
            ]
          },
          "metadata": {}
        },
        {
          "output_type": "stream",
          "name": "stdout",
          "text": [
            "\n",
            "============= is_canceled =================\n"
          ]
        },
        {
          "output_type": "display_data",
          "data": {
            "text/plain": [
              "0    62733\n",
              "1    40161\n",
              "Name: is_canceled, dtype: int64"
            ]
          },
          "metadata": {}
        },
        {
          "output_type": "stream",
          "name": "stdout",
          "text": [
            "\n",
            "============= lead_time =================\n"
          ]
        },
        {
          "output_type": "display_data",
          "data": {
            "text/plain": [
              "0      2845\n",
              "1      2318\n",
              "2      1424\n",
              "3      1279\n",
              "4      1228\n",
              "       ... \n",
              "382       1\n",
              "424       1\n",
              "463       1\n",
              "362       1\n",
              "458       1\n",
              "Name: lead_time, Length: 475, dtype: int64"
            ]
          },
          "metadata": {}
        },
        {
          "output_type": "stream",
          "name": "stdout",
          "text": [
            "\n",
            "============= arrival_date_year =================\n"
          ]
        },
        {
          "output_type": "display_data",
          "data": {
            "text/plain": [
              "2016    49056\n",
              "2017    34995\n",
              "2015    18843\n",
              "Name: arrival_date_year, dtype: int64"
            ]
          },
          "metadata": {}
        },
        {
          "output_type": "stream",
          "name": "stdout",
          "text": [
            "\n",
            "============= arrival_date_month =================\n"
          ]
        },
        {
          "output_type": "display_data",
          "data": {
            "text/plain": [
              "August       12672\n",
              "July         11599\n",
              "May          10087\n",
              "June          9803\n",
              "April         9746\n",
              "October       9437\n",
              "September     9411\n",
              "March         8132\n",
              "February      6445\n",
              "December      5620\n",
              "November      5396\n",
              "January       4546\n",
              "Name: arrival_date_month, dtype: int64"
            ]
          },
          "metadata": {}
        },
        {
          "output_type": "stream",
          "name": "stdout",
          "text": [
            "\n",
            "============= arrival_date_week_number =================\n"
          ]
        },
        {
          "output_type": "display_data",
          "data": {
            "text/plain": [
              "33    3283\n",
              "30    2800\n",
              "32    2776\n",
              "34    2762\n",
              "18    2660\n",
              "28    2565\n",
              "29    2563\n",
              "31    2540\n",
              "27    2489\n",
              "17    2486\n",
              "15    2454\n",
              "41    2441\n",
              "21    2411\n",
              "25    2383\n",
              "39    2349\n",
              "35    2336\n",
              "38    2328\n",
              "23    2321\n",
              "20    2314\n",
              "24    2216\n",
              "42    2205\n",
              "40    2195\n",
              "13    2185\n",
              "22    2168\n",
              "19    2135\n",
              "16    2130\n",
              "26    2118\n",
              "36    1981\n",
              "37    1969\n",
              "44    1946\n",
              "43    1851\n",
              "10    1829\n",
              "12    1807\n",
              "14    1728\n",
              "7     1713\n",
              "45    1698\n",
              "9     1677\n",
              "11    1661\n",
              "8     1659\n",
              "53    1486\n",
              "47    1383\n",
              "49    1343\n",
              "50    1282\n",
              "46    1212\n",
              "48    1179\n",
              "4     1173\n",
              "6     1146\n",
              "5     1091\n",
              "52    1066\n",
              "3      955\n",
              "1      900\n",
              "2      856\n",
              "51     690\n",
              "Name: arrival_date_week_number, dtype: int64"
            ]
          },
          "metadata": {}
        },
        {
          "output_type": "stream",
          "name": "stdout",
          "text": [
            "\n",
            "============= arrival_date_day_of_month =================\n"
          ]
        },
        {
          "output_type": "display_data",
          "data": {
            "text/plain": [
              "17    3712\n",
              "26    3697\n",
              "25    3695\n",
              "5     3683\n",
              "16    3566\n",
              "18    3536\n",
              "8     3521\n",
              "12    3516\n",
              "20    3471\n",
              "28    3457\n",
              "24    3430\n",
              "9     3422\n",
              "2     3421\n",
              "3     3381\n",
              "13    3360\n",
              "6     3352\n",
              "19    3344\n",
              "27    3342\n",
              "4     3321\n",
              "15    3281\n",
              "30    3235\n",
              "23    3202\n",
              "21    3202\n",
              "14    3199\n",
              "1     3189\n",
              "10    3145\n",
              "29    3136\n",
              "7     3122\n",
              "11    3110\n",
              "22    3077\n",
              "31    1769\n",
              "Name: arrival_date_day_of_month, dtype: int64"
            ]
          },
          "metadata": {}
        },
        {
          "output_type": "stream",
          "name": "stdout",
          "text": [
            "\n",
            "============= stays_in_weekend_nights =================\n"
          ]
        },
        {
          "output_type": "display_data",
          "data": {
            "text/plain": [
              "0     42421\n",
              "2     31120\n",
              "1     26217\n",
              "4      1712\n",
              "3      1127\n",
              "6       144\n",
              "5        62\n",
              "8        53\n",
              "7        16\n",
              "10        6\n",
              "12        5\n",
              "9         5\n",
              "16        3\n",
              "13        2\n",
              "14        1\n",
              "Name: stays_in_weekend_nights, dtype: int64"
            ]
          },
          "metadata": {}
        },
        {
          "output_type": "stream",
          "name": "stdout",
          "text": [
            "\n",
            "============= stays_in_week_nights =================\n"
          ]
        },
        {
          "output_type": "display_data",
          "data": {
            "text/plain": [
              "2     30124\n",
              "1     23790\n",
              "3     19935\n",
              "5     10353\n",
              "4      8550\n",
              "0      5725\n",
              "6      1362\n",
              "10      964\n",
              "7       938\n",
              "8       600\n",
              "9       194\n",
              "15       79\n",
              "11       50\n",
              "19       41\n",
              "12       39\n",
              "20       36\n",
              "14       33\n",
              "13       23\n",
              "16       16\n",
              "21       14\n",
              "18        5\n",
              "22        5\n",
              "30        5\n",
              "25        4\n",
              "17        3\n",
              "40        2\n",
              "26        1\n",
              "33        1\n",
              "34        1\n",
              "41        1\n",
              "Name: stays_in_week_nights, dtype: int64"
            ]
          },
          "metadata": {}
        },
        {
          "output_type": "stream",
          "name": "stdout",
          "text": [
            "\n",
            "============= adults =================\n"
          ]
        },
        {
          "output_type": "display_data",
          "data": {
            "text/plain": [
              "2     81072\n",
              "1     15653\n",
              "3      5788\n",
              "0       326\n",
              "4        50\n",
              "26        5\n",
              "Name: adults, dtype: int64"
            ]
          },
          "metadata": {}
        },
        {
          "output_type": "stream",
          "name": "stdout",
          "text": [
            "\n",
            "============= children =================\n"
          ]
        },
        {
          "output_type": "display_data",
          "data": {
            "text/plain": [
              "0.0     95001\n",
              "1.0      4407\n",
              "2.0      3427\n",
              "3.0        58\n",
              "10.0        1\n",
              "Name: children, dtype: int64"
            ]
          },
          "metadata": {}
        },
        {
          "output_type": "stream",
          "name": "stdout",
          "text": [
            "\n",
            "============= babies =================\n"
          ]
        },
        {
          "output_type": "display_data",
          "data": {
            "text/plain": [
              "0     102130\n",
              "1        751\n",
              "2         11\n",
              "10         1\n",
              "9          1\n",
              "Name: babies, dtype: int64"
            ]
          },
          "metadata": {}
        },
        {
          "output_type": "stream",
          "name": "stdout",
          "text": [
            "\n",
            "============= meal =================\n"
          ]
        },
        {
          "output_type": "display_data",
          "data": {
            "text/plain": [
              "BB           77638\n",
              "HB           13421\n",
              "SC           10334\n",
              "Undefined      830\n",
              "FB             671\n",
              "Name: meal, dtype: int64"
            ]
          },
          "metadata": {}
        },
        {
          "output_type": "stream",
          "name": "stdout",
          "text": [
            "\n",
            "============= country =================\n"
          ]
        },
        {
          "output_type": "display_data",
          "data": {
            "text/plain": [
              "PRT    37591\n",
              "GBR    10889\n",
              "FRA     9810\n",
              "ESP     7848\n",
              "DEU     6998\n",
              "       ...  \n",
              "DJI        1\n",
              "UMI        1\n",
              "BHS        1\n",
              "CYM        1\n",
              "AIA        1\n",
              "Name: country, Length: 174, dtype: int64"
            ]
          },
          "metadata": {}
        },
        {
          "output_type": "stream",
          "name": "stdout",
          "text": [
            "\n",
            "============= market_segment =================\n"
          ]
        },
        {
          "output_type": "display_data",
          "data": {
            "text/plain": [
              "Online TA        56057\n",
              "Offline TA/TO    23774\n",
              "Groups           15661\n",
              "Direct            6582\n",
              "Corporate          692\n",
              "Complementary      103\n",
              "Aviation            25\n",
              "Name: market_segment, dtype: int64"
            ]
          },
          "metadata": {}
        },
        {
          "output_type": "stream",
          "name": "stdout",
          "text": [
            "\n",
            "============= distribution_channel =================\n"
          ]
        },
        {
          "output_type": "display_data",
          "data": {
            "text/plain": [
              "TA/TO        94575\n",
              "Direct        7003\n",
              "Corporate     1125\n",
              "GDS            191\n",
              "Name: distribution_channel, dtype: int64"
            ]
          },
          "metadata": {}
        },
        {
          "output_type": "stream",
          "name": "stdout",
          "text": [
            "\n",
            "============= is_repeated_guest =================\n"
          ]
        },
        {
          "output_type": "display_data",
          "data": {
            "text/plain": [
              "0    101450\n",
              "1      1444\n",
              "Name: is_repeated_guest, dtype: int64"
            ]
          },
          "metadata": {}
        },
        {
          "output_type": "stream",
          "name": "stdout",
          "text": [
            "\n",
            "============= previous_cancellations =================\n"
          ]
        },
        {
          "output_type": "display_data",
          "data": {
            "text/plain": [
              "0     97339\n",
              "1      5384\n",
              "2        36\n",
              "26       26\n",
              "25       25\n",
              "11       25\n",
              "24       24\n",
              "14       14\n",
              "3         9\n",
              "6         6\n",
              "13        4\n",
              "21        1\n",
              "5         1\n",
              "Name: previous_cancellations, dtype: int64"
            ]
          },
          "metadata": {}
        },
        {
          "output_type": "stream",
          "name": "stdout",
          "text": [
            "\n",
            "============= previous_bookings_not_canceled =================\n"
          ]
        },
        {
          "output_type": "display_data",
          "data": {
            "text/plain": [
              "0     101909\n",
              "1        605\n",
              "2        145\n",
              "3         59\n",
              "4         43\n",
              "5         38\n",
              "6         22\n",
              "7         12\n",
              "9          9\n",
              "10         9\n",
              "8          8\n",
              "12         4\n",
              "22         4\n",
              "11         3\n",
              "13         3\n",
              "14         3\n",
              "16         3\n",
              "15         2\n",
              "17         2\n",
              "19         2\n",
              "20         2\n",
              "21         2\n",
              "25         1\n",
              "18         1\n",
              "23         1\n",
              "24         1\n",
              "50         1\n",
              "Name: previous_bookings_not_canceled, dtype: int64"
            ]
          },
          "metadata": {}
        },
        {
          "output_type": "stream",
          "name": "stdout",
          "text": [
            "\n",
            "============= reserved_room_type =================\n"
          ]
        },
        {
          "output_type": "display_data",
          "data": {
            "text/plain": [
              "A    73265\n",
              "D    17535\n",
              "E     5457\n",
              "F     2537\n",
              "G     1809\n",
              "B      992\n",
              "C      765\n",
              "H      534\n",
              "Name: reserved_room_type, dtype: int64"
            ]
          },
          "metadata": {}
        },
        {
          "output_type": "stream",
          "name": "stdout",
          "text": [
            "\n",
            "============= assigned_room_type =================\n"
          ]
        },
        {
          "output_type": "display_data",
          "data": {
            "text/plain": [
              "A    64502\n",
              "D    21938\n",
              "E     6306\n",
              "F     3134\n",
              "G     2169\n",
              "B     1879\n",
              "C     1868\n",
              "H      601\n",
              "I      274\n",
              "K      223\n",
              "Name: assigned_room_type, dtype: int64"
            ]
          },
          "metadata": {}
        },
        {
          "output_type": "stream",
          "name": "stdout",
          "text": [
            "\n",
            "============= booking_changes =================\n"
          ]
        },
        {
          "output_type": "display_data",
          "data": {
            "text/plain": [
              "0     88645\n",
              "1     10020\n",
              "2      3037\n",
              "3       696\n",
              "4       286\n",
              "5        83\n",
              "6        54\n",
              "7        26\n",
              "8        14\n",
              "9         8\n",
              "10        6\n",
              "13        5\n",
              "14        3\n",
              "15        3\n",
              "17        2\n",
              "12        2\n",
              "16        2\n",
              "11        1\n",
              "18        1\n",
              "Name: booking_changes, dtype: int64"
            ]
          },
          "metadata": {}
        },
        {
          "output_type": "stream",
          "name": "stdout",
          "text": [
            "\n",
            "============= deposit_type =================\n"
          ]
        },
        {
          "output_type": "display_data",
          "data": {
            "text/plain": [
              "No Deposit    90324\n",
              "Non Refund    12522\n",
              "Refundable       48\n",
              "Name: deposit_type, dtype: int64"
            ]
          },
          "metadata": {}
        },
        {
          "output_type": "stream",
          "name": "stdout",
          "text": [
            "\n",
            "============= agent =================\n"
          ]
        },
        {
          "output_type": "display_data",
          "data": {
            "text/plain": [
              "9.0      31959\n",
              "240.0    13871\n",
              "1.0       7191\n",
              "14.0      3638\n",
              "7.0       3539\n",
              "         ...  \n",
              "197.0        1\n",
              "450.0        1\n",
              "352.0        1\n",
              "367.0        1\n",
              "346.0        1\n",
              "Name: agent, Length: 332, dtype: int64"
            ]
          },
          "metadata": {}
        },
        {
          "output_type": "stream",
          "name": "stdout",
          "text": [
            "\n",
            "============= days_in_waiting_list =================\n"
          ]
        },
        {
          "output_type": "display_data",
          "data": {
            "text/plain": [
              "0      99355\n",
              "39       226\n",
              "58       164\n",
              "44       140\n",
              "31       107\n",
              "       ...  \n",
              "92         1\n",
              "81         1\n",
              "52         1\n",
              "116        1\n",
              "89         1\n",
              "Name: days_in_waiting_list, Length: 122, dtype: int64"
            ]
          },
          "metadata": {}
        },
        {
          "output_type": "stream",
          "name": "stdout",
          "text": [
            "\n",
            "============= customer_type =================\n"
          ]
        },
        {
          "output_type": "display_data",
          "data": {
            "text/plain": [
              "Transient          77756\n",
              "Transient-Party    20602\n",
              "Contract            4063\n",
              "Group                473\n",
              "Name: customer_type, dtype: int64"
            ]
          },
          "metadata": {}
        },
        {
          "output_type": "stream",
          "name": "stdout",
          "text": [
            "\n",
            "============= adr =================\n"
          ]
        },
        {
          "output_type": "display_data",
          "data": {
            "text/plain": [
              "62.00     3712\n",
              "90.00     2231\n",
              "75.00     2060\n",
              "80.00     1534\n",
              "65.00     1447\n",
              "          ... \n",
              "6.40         1\n",
              "152.05       1\n",
              "69.44        1\n",
              "225.33       1\n",
              "7.00         1\n",
              "Name: adr, Length: 8627, dtype: int64"
            ]
          },
          "metadata": {}
        },
        {
          "output_type": "stream",
          "name": "stdout",
          "text": [
            "\n",
            "============= required_car_parking_spaces =================\n"
          ]
        },
        {
          "output_type": "display_data",
          "data": {
            "text/plain": [
              "0    97463\n",
              "1     5408\n",
              "2       20\n",
              "3        3\n",
              "Name: required_car_parking_spaces, dtype: int64"
            ]
          },
          "metadata": {}
        },
        {
          "output_type": "stream",
          "name": "stdout",
          "text": [
            "\n",
            "============= total_of_special_requests =================\n"
          ]
        },
        {
          "output_type": "display_data",
          "data": {
            "text/plain": [
              "0    57956\n",
              "1    30441\n",
              "2    11964\n",
              "3     2232\n",
              "4      272\n",
              "5       29\n",
              "Name: total_of_special_requests, dtype: int64"
            ]
          },
          "metadata": {}
        },
        {
          "output_type": "stream",
          "name": "stdout",
          "text": [
            "\n",
            "============= reservation_status =================\n"
          ]
        },
        {
          "output_type": "display_data",
          "data": {
            "text/plain": [
              "Check-Out    62733\n",
              "Canceled     39158\n",
              "No-Show       1003\n",
              "Name: reservation_status, dtype: int64"
            ]
          },
          "metadata": {}
        },
        {
          "output_type": "stream",
          "name": "stdout",
          "text": [
            "\n",
            "============= reservation_status_date =================\n"
          ]
        },
        {
          "output_type": "display_data",
          "data": {
            "text/plain": [
              "2015-10-21    1426\n",
              "2015-07-06     803\n",
              "2015-01-01     763\n",
              "2016-01-18     592\n",
              "2016-11-25     552\n",
              "              ... \n",
              "2015-04-25       1\n",
              "2015-03-13       1\n",
              "2015-03-29       1\n",
              "2014-11-18       1\n",
              "2015-01-28       1\n",
              "Name: reservation_status_date, Length: 923, dtype: int64"
            ]
          },
          "metadata": {}
        },
        {
          "output_type": "stream",
          "name": "stdout",
          "text": [
            "\n"
          ]
        }
      ]
    },
    {
      "cell_type": "markdown",
      "metadata": {
        "id": "brmrfwBmR0r4"
      },
      "source": [
        "ditemukan missing value lain dengan bentuk \"Undefined\" pada beberapa kolom, yaitu\n",
        "\n",
        "meal, undefined = 1169\n",
        "\n",
        "market_segment, undefined = 2\n",
        "\n",
        "distribution_channel, undefined = 5\n",
        "\n",
        "\n"
      ]
    },
    {
      "cell_type": "markdown",
      "metadata": {
        "id": "FCPtqmRWSxdy"
      },
      "source": [
        "**Drop or impute teh missing values?**\n",
        "**First, we have to see what's the percentage of missing value in that column. If it contained a lot of missing value (let say >35%), then we can just drop that column. If not, then we can do some imputation.**"
      ]
    },
    {
      "cell_type": "code",
      "metadata": {
        "colab": {
          "base_uri": "https://localhost:8080/"
        },
        "id": "MKDa-RFIeqlL",
        "outputId": "95721bdb-0fcb-4f6d-acf0-3827884815b0"
      },
      "source": [
        "100 * len(data[data['meal']== 'Undefined']) / len(data)"
      ],
      "execution_count": null,
      "outputs": [
        {
          "output_type": "execute_result",
          "data": {
            "text/plain": [
              "0.806655392928645"
            ]
          },
          "metadata": {},
          "execution_count": 350
        }
      ]
    },
    {
      "cell_type": "code",
      "metadata": {
        "colab": {
          "base_uri": "https://localhost:8080/"
        },
        "id": "_hFgoVnbfLB9",
        "outputId": "01b8ae6d-9ca9-45b3-bd8d-336dc15d0c46"
      },
      "source": [
        "100 * len(data[data['market_segment']== 'Undefined']) / len(data)"
      ],
      "execution_count": null,
      "outputs": [
        {
          "output_type": "execute_result",
          "data": {
            "text/plain": [
              "0.0"
            ]
          },
          "metadata": {},
          "execution_count": 351
        }
      ]
    },
    {
      "cell_type": "code",
      "metadata": {
        "colab": {
          "base_uri": "https://localhost:8080/"
        },
        "id": "h98Fec4cfwHj",
        "outputId": "6ce605bd-9a2c-4dfa-ed9e-d0a443db7ae2"
      },
      "source": [
        "100 * len(data[data['distribution_channel']== 'Undefined']) / len(data)"
      ],
      "execution_count": null,
      "outputs": [
        {
          "output_type": "execute_result",
          "data": {
            "text/plain": [
              "0.0"
            ]
          },
          "metadata": {},
          "execution_count": 352
        }
      ]
    },
    {
      "cell_type": "markdown",
      "metadata": {
        "id": "838ZeX7fnvUe"
      },
      "source": [
        "**tidak ada missing value yang komposisinya >35% dari seluruh record data.**"
      ]
    }
  ]
}